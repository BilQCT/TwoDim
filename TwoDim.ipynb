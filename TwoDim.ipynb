{
 "cells": [
  {
   "cell_type": "markdown",
   "metadata": {},
   "source": [
    "#### Packages"
   ]
  },
  {
   "cell_type": "code",
   "execution_count": 23,
   "metadata": {},
   "outputs": [
    {
     "data": {
      "text/plain": [
       "\"# initialize project:\\nusing Pkg; CURRENT = pwd(); PROJ_PATH = joinpath(dirname(CURRENT),\\\"MyProject\\\");\\n\\nPkg.activate(PROJ_PATH);;\\n\\n# Find current path\\nCURRENT = pwd(); SRC_PATH = joinpath(CURRENT,\\\"src\\\");\\n\\n# include auxilliary functions:\\nfor file in readdir(SRC_PATH); include(joinpath(SRC_PATH,file)); end;\\n\\nconst pm = Polymake;\\nusing GAP\\nconst g = GAP.Globals;\""
      ]
     },
     "metadata": {},
     "output_type": "display_data"
    }
   ],
   "source": [
    "\"\"\"# initialize project:\n",
    "using Pkg; CURRENT = pwd(); PROJ_PATH = joinpath(dirname(CURRENT),\"MyProject\");\n",
    "\n",
    "Pkg.activate(PROJ_PATH);;\n",
    "\n",
    "# Find current path\n",
    "CURRENT = pwd(); SRC_PATH = joinpath(CURRENT,\"src\");\n",
    "\n",
    "# include auxilliary functions:\n",
    "for file in readdir(SRC_PATH); include(joinpath(SRC_PATH,file)); end;\n",
    "\n",
    "const pm = Polymake;\n",
    "using GAP\n",
    "const g = GAP.Globals;\"\"\""
   ]
  },
  {
   "cell_type": "code",
   "execution_count": 2,
   "metadata": {},
   "outputs": [
    {
     "name": "stdout",
     "output_type": "stream",
     "text": [
      "\r"
     ]
    },
    {
     "data": {
      "text/plain": [
       "representative_facets (generic function with 1 method)"
      ]
     },
     "metadata": {},
     "output_type": "display_data"
    }
   ],
   "source": [
    "include(\"TwoDim.jl\")"
   ]
  },
  {
   "cell_type": "markdown",
   "metadata": {},
   "source": [
    "# Two-dimensional simplicial distributions"
   ]
  },
  {
   "cell_type": "markdown",
   "metadata": {},
   "source": [
    "Simplicial distributions model distributions on a space of outcomes parametrized by a space of measurements. In this code we restrict to two-dimensional measurement spaces and $\\mathbb{Z}_d=\\{0,1,\\cdots,d-1\\}$ as the outcomes. In this theory measurement and outcome spaces are modeled by simplicial sets. For an introduction to two-dimensional simplicial sets see [[Okay 2023]](https://arxiv.org/abs/2312.15794).\n",
    "\n",
    " \n",
    "A simplicial set $X$ consists of the following data:\n",
    "\n",
    "* a collection of sets $X_0,\\cdots, X_n, \\cdots$\n",
    "* face maps $d_i:X_n\\to X_{n-1}$\n",
    "* degeneracy maps $s_j:X_{n}\\to X_{n+1}$ \n",
    "\n",
    "where the face and the degeneracy maps satisfy the simplicial relations. The set $X_n$ represents the set of $n$-simplices. The face and degeneracy maps encode the gluing and collapsing data. A simplex is called non-degenerate if it is not in the image of a degeneracy map.\n",
    "\n",
    "A simplicial map $f:X\\to Y$ consists of functions $f_n:X_n\\to Y_n$, $n\\geq 0$, compatible with the simplicial structure. Writing $f_\\sigma = f_n(\\sigma)$ this means that\n",
    "$$\n",
    "d_i f_\\sigma = f_{d_i\\sigma} \\;\\;\\;\\; s_j f_\\sigma = f_{s_j \\sigma}\n",
    "$$\n",
    "for all face and degeneracy maps. A simplicial map is determined by $f_\\sigma$'s where $\\sigma$ is a non-degenerate simplex of $X$.\n",
    " \n",
    "\n",
    "A two-dimensional simplicial set comes with\n",
    "\n",
    "*  the sets $X_0,X_1,X_2$ of simplices\n",
    "* the face maps\n",
    "$$\n",
    "d_i: X_1 \\to X_0 \\;\\;\\;\\; i=0,1\n",
    "$$\n",
    "and\n",
    "$$\n",
    "d_i:X_2\\to X_1 \\;\\;\\;\\; i=0,1,2\n",
    "$$\n",
    "* the degeneracy map\n",
    "$$\n",
    "s_0:X_0\\to X_1\n",
    "$$\n",
    "and\n",
    "$$\n",
    "s_0:X_1\\to X_2 \\;\\;\\;\\; s_1:X_1\\to X_2\n",
    "$$\n",
    "Two-dimensional simplicial sets will represent our measurement spaces. \n",
    "\n",
    "Outcome spaces will be represented by the nerve space $Y=N\\mathbb{Z}_d$. We are only concerned with the two-dimensional part of this space:\n",
    "\n",
    "*  the sets \n",
    "$$Y_0=\\{\\ast\\} \\;\\;\\;\\; Y_1=\\mathbb{Z}_d \\;\\;\\;\\; Y_2=\\mathbb{Z}_d^2 $$\n",
    "of simplices\n",
    "* the face maps\n",
    "$$\n",
    "d_0(a,b) = b\\;\\;\\;\\; d_1(a,b)=a+b\\;\\;\\;\\;d_2(a,b)=a\n",
    "$$ \n",
    "* the degeneracy map\n",
    "$$\n",
    "s_0(\\ast) = 0.\n",
    "$$\n",
    "\n",
    " \n",
    "\n",
    "A two-dimensional simplicial distribution on $(X,Y)$ is a simplicial map $p:X\\to DY$ where $DY$ is the space of distributions constructed from the outcome space. An $n$-simplex of this space is a distribution on the set of $n$-simplices of the outcome space. For our case a simplicial distribution consists of\n",
    "\n",
    "* distributions \n",
    "$$\n",
    "p_\\sigma = \\{p_\\sigma^{ab}\\}_{a,b\\in \\mathbb{Z}_d} \n",
    "$$\n",
    "on the set of pairs $(a,b)$ parametrized by the two-simplices $\\sigma\\in X_2$ satisfying the simplicial relations coming from the face and the degeneracy maps. \n",
    "\n",
    "For example, let our measurement space be the diamond space $D$ obtained by gluing two triangles ($2$-simplices) $\\sigma$ and $\\sigma'$ along a common face, i.e., say $d_1\\sigma=d_1\\sigma'$. Then a simplicial distribution on $D$ consists of two distributions $p_\\sigma$ and $p_{\\sigma'}$ such that the marginals along the $d_1$ faces match. \n",
    "\n",
    "\n",
    "## Convex polytope of simplicial distributions\n",
    "\n",
    "\n",
    "The goal is to construct the polytope $P_X$ of simplicial distributions defined on $(X,Y)$ where $X$ is two-dimensional and $Y$ is the nerve space. \n",
    "<!--for a simplicial scenario $(X,N\\mathbb{Z}_2)$ whose maximal non-degenerate simplices are $2$-dimensional.--> For simplicity, let us consider a two-dimensional space $X$ in which all non-degenerate $1$-simplices $\\tau_i$ are the face of some triangle $\\sigma$ so that $\\tau_i = d_j\\sigma$. This is not particularly restrictive as it is a basic fact about simplicial distributions that simplicial distributions restricted to one-dimensional spaces yield only \"classical\" distributions, which are not particularly interesting.\n",
    "\n",
    "By the Minkowski-Weyl theorem a polytope can be defined as the intersection of a finite number of half-space inequalities or as the convex hull of a finite number of extreme points. The former is called the $H$-representation while the latter is called $V$-representation of the polytope. The problem of converting from $H$ to $V$ representation is called the vertex (facet) enumeration problem. The polytope $P_X$ can be defined in its $H$-representation as follows. For $(a,b)\\in \\mathbb{Z}_2^2$ and non-degenerate $2$-simplex $\\sigma$ let us consider the distribution $p_\\sigma$ on each triangle. Since we work with the semi-ring $\\mathbb{R}_{\\geq 0}$ we require that $p_\\sigma^{ab}\\geq 0$ for all $(a,b)\\in \\mathbb{Z}_2^2$ and non-degenerate $2$-simplex $\\sigma$. This yields an unbounded polyhedron (a cone) given by the positive orthant of a Euclidean space. Moreover, each distribution $p_\\sigma^{ab}$ is normalized $\\sum_{a,b} p_\\sigma^{ab} =1 $ and there are additional compatibility conditions $d_i \\sigma = d_j\\sigma^\\prime$ leading to the constraints\n",
    "\n",
    "$$\\sum_{ab\\in\\mathbb{Z}_2^2~:~d_i(ab)=c} p_\\sigma^{ab} = \\sum_{ab\\in\\mathbb{Z}_2^2~:~d_j(ab)=c} p_{\\sigma^\\prime}^{ab}.$$\n",
    "\n",
    "\n",
    "The intersection of the cone with these affine subspaces yields a polytope $P_X$.\n",
    "\n",
    "### Degeneracies\n",
    "\n",
    "<!--A crucial distinction between simplicial sets and abstract simplicial complexes is the notion of degeneracies: $s_j:X_n\\to X_{n+1}$. If a simplex $\\sigma_n \\in X_n$ is in the image of a degeneracy map acting on a non-degenerate simplex $\\sigma_{n-1}$, i.e. $\\sigma = s_j(\\sigma_{n-1})$, then this degenerate simplex is not pictured in the geometric realization of $X$. Nonetheless, degeneracies become quite important when we wish to perform natural topological operations, such as collapsing. Consider a collapse map\n",
    "\n",
    "$$\\pi: \\Delta^1\\to\\Delta^0.$$\n",
    "\n",
    "In the framework of simplicial complexes we could not implement this collapse as a simplicial map because there is no notion of mapping a $1$-simplex to a $0$-simplex. Degeneracies solve this issue since the simplicial set for $\\Delta^0$ includes $n$-simplices at every level $(\\Delta^0)_n$ that are just images of the non-degenerate point $c\\in (\\Delta^0)_0$ under the degeneracy map. By mapping a non-degenerate $1$-simplex $\\tau\\in (\\Delta^1)_1$ to a degenerate $1$-simplex $s_j(c)\\in (\\Delta^0)_1$ we implement the desired collapse since degenerate simplices do not appear in the geometrical realization of $\\Delta^0$.-->\n",
    "\n",
    "We consider the behavior of degeneracies in the case of two-dimensional simplicial distributions. <!--Let $p:X\\to DY$ be a simplicial distributoin where $X$ is two-dimensional.--> Suppose we have a non-degenerate $2$-simplex $\\sigma\\in X_2$ such that one of its faces is a degenerate $1$-simplex, i.e. $d_i(\\sigma) = s_0(c)$ for some $c\\in X_0$. Since $p$ is a simplicial map we also have\n",
    "\n",
    "$$d_i(p_\\sigma) = s_0(p_c).$$\n",
    "\n",
    "<!--For an outcome space $N\\mathbb{Z}_d$ we can associate $p(\\sigma)$ with a tuple $(p^{ab})$ of length $d\\times d$. There are three face maps given by\n",
    "\n",
    "$$ \\left(d_i(p_\\sigma)\\right)(r) =%\n",
    "\\begin{cases}\n",
    "      \\sum_a p_\\sigma(ar) & i=0 \\\\\n",
    "      \\sum_{a+b = r ~\\text{mod}~d}p_\\sigma(ab) & i =1 \\\\\n",
    "      \\sum_a p_\\sigma(ra) & i = 2~.\n",
    "    \\end{cases}$$-->\n",
    "\n",
    "Conversely we have that there is a unique distribution on a $0$-simplex given by $p_c = 1$. The degeneracy map acting on this distribution is given by a tuple $s_0(p_c) = \\delta^0 $, which is a delta-distribution such that $\\delta^0(a) = 1$ for $a = 0$ and $\\delta^0(a) =0$ otherwise. Thus the relation $d_i(p_\\sigma) = s_0(p_c)$ yields\n",
    "\n",
    "\\begin{align}\n",
    "\\sum_a p_\\sigma(a0) &=& 1 \\quad\\quad (i = 0),\\notag\\\\\n",
    "\\sum_{a+b = 0 ~\\text{mod}~d}p_\\sigma(ab) &=& 1 \\quad\\quad (i = 1),\\notag\\\\\n",
    "\\sum_a p_\\sigma(0a) &=& 1 \\quad\\quad (i = 2).\\notag\\\\\n",
    "\\end{align}\n",
    "\n",
    "Due to normalization of $p_\\sigma(ab)$ this implies that all probabilities not appearing in the above expression should be set to zero in the case that a face of $\\sigma$ is degenerate. This is imposed by introducing additional linear equalities into the description of the polytope $P_X$."
   ]
  },
  {
   "cell_type": "markdown",
   "metadata": {},
   "source": [
    "## Edge coordinates\n",
    "\n",
    "<!--For simplicial scenarios the map from the boundary of a triangle to the triangle is injective. In particular, for a space $X$ consisting of a single non-degenerate $2$-simplex $\\sigma$, consider a simplicial distribution $p:X\\to DN\\mathbb{Z}_2$, which we denote $p^{ab}_\\sigma := p(\\sigma)(ab)$.--> The boundary $\\partial\\sigma$ consists of three edges $x_0,x_1,x_2$ which are the faces $d_0\\sigma,d_1\\sigma,d_2\\sigma$, respectively. Distributions $p_{x_i}^a := p(x_i)(a)$ on the boundary are obtained by marginalization. More explicitly,\n",
    "\n",
    "\\begin{equation}\n",
    "p_{x_i}^c=\\sum_{a,b\\in \\mathbb{Z}_2~: ~d_i(ab)=c}p^{ab}_\\sigma~.\\notag\n",
    "\\end{equation}\n",
    "\n",
    "### Edge coordinates: marginals:\n",
    "\n",
    "Recall that the marginal distributions $p_{x_i}^a$ are normalized so that $p_{x_i}^0+p_{x_i}^1=1$. <!-- and, without loss of generality,--> The distribution $p_{x_i}$ can be characterized by a single parameter $p_{x_i}^0$ since $p_{x_i}^1=1-p_{d_i\\sigma}^0$. Similarly, the distribution $p_\\sigma^{ab}$ is itself normalized, thus $p_\\sigma^{ab}$ can be characterized by three independent parameters <!--, which we can take to be--> $p_{x_i}^0$ where $i=0,1,2$. To see this, using the formula above, note that\n",
    "\n",
    "\\begin{align}\n",
    "p_{x_0}^0 &=& p^{00}_\\sigma+p^{10}_\\sigma,\\\\\n",
    "p_{x_1}^0 &=& p^{00}_\\sigma+p^{11}_\\sigma,\\\\\n",
    "p_{x_2}^0 &=& p^{00}_\\sigma+p^{01}_\\sigma.\n",
    "\\end{align}\n",
    "\n",
    "Together with normalization we obtain a description of $p_\\sigma^{ab}$ in terms of its marginal distributions\n",
    "\n",
    "$$ p_\\sigma^{ab} = \\frac{1}{2}\\left ( p_{x_0}^a + p_{x_1}^{a+b+1} + p_{x_2}^b \\right).$$\n",
    "\n",
    "### Polytope of simplicial distributions\n",
    "\n",
    "The distribution $p_\\sigma^{ab}$ therefore is uniquely determined by its edge marginals $p_{x_i}^0$, and is automatically normalized. Moreover, <!--for two-dimensional simplicial scenarios $(X,N\\mathbb{Z}_2)$,--> non-trivial compatibility (or nonsignaling) constraints arise only when simplices are glued along edges. (Gluing along vertices is possible but does not induce any compatibility constraints.) Thus compatibility of simplicial distributions is guaranteed with edge coordinates. In other words, for two-dimensional spaces with outcomes in $\\mathbb{Z}_d$, simplicial distributions are completely characterized by the marginal distributions of the edges.\n",
    "\n",
    "Let us denote $X_n^\\circ$ to be the set of non-degenerate $n$-simplices in $X$. (For our purposes this is only non-empty for $n\\leq 2$.) Rather than letting the polytope $P_X$ reside in an ambient space $\\mathbb{R}^{|\\mathbb{Z}_d^2|\\times |X_2^\\circ|}$, with coordinates given by the $p_\\sigma^{ab}$ $(\\sigma\\in X_2^\\circ)$, it can instead be embedded in a real Euclidean space $\\mathbb{R}^{|X_1^\\circ|}$ with coordinates $p_\\tau^0$ $(\\tau\\in X_1^\\circ)$ where $|X_1^\\circ|\\leq |\\mathbb{Z}_d^2|\\times |X_2^\\circ|$. (When a polytope $P$ with affine span of dimension $N$ is embedded in $\\mathbb{R}^N$, it is called full-dimensional.) The polytope $P_X$ is given in its $H$-representation by the following set of inequalities:\n",
    "\n",
    "$$ P_X = \\{x\\in \\mathbb{R}^{|X_1^\\circ|}~:~p_\\sigma^{ab}\\geq 0\\}$$\n",
    "\n",
    "where $p_\\sigma^{ab}$ is given by the formula above.\n",
    "\n",
    "### Edge coordinates: expectations:\n",
    "\n",
    "Some computations are made simpler by a change of coordinates. We interpret the edges $x_i$ as measurements from which we obtain outcomes $(-1)^a$ ($a\\in\\mathbb{Z}_d$) that occur with probability $p_{x_i}^a$. The expected value (or expectation) is then given by\n",
    "\n",
    "$$\\bar{x}_i := \\sum_a (-1)^a p_{x_i}^a = p_{x_i}^0 - p_{x_i}^1.$$\n",
    "\n",
    "Using the normalization of $p_{x_i}^a$ we have that $\\bar{x}_i=2p_{x_i}^0-1$ yielding $p_{x_i}^0=(\\bar{x}_i+1)/2$. Plugging into the expression for $p_\\sigma^{ab}$ above, we have that:\n",
    "\n",
    "\\begin{equation}\n",
    "p_\\sigma^{ab} = \\frac{1}{4}\\left( 1+(-1)^a\\bar{x}_0+(-1)^{a+b}\\bar{x}_1+(-1)^b\\bar{x}_2 \\right).\\notag\n",
    "\\end{equation}"
   ]
  },
  {
   "cell_type": "markdown",
   "metadata": {},
   "source": [
    "## Twisted simplicial distributions\n",
    "\n",
    "Motivated by quantum mechanics, it is possible to have so-called twisted distributions on a simplicial scenario. We again restrict our attention to two-dimensional measurement spaces <!--$X$--> and <!--$\\mathbb{Z}_2$--> the nerve space as the outcomes. Let $\\sigma$ be a non-degenerate triangle with non-degenerate edges $x_i = d_i\\sigma$. Denoting the set of non-degenerate edges on the boundary of $\\sigma$ by $\\partial\\sigma$, we consider a function $\\beta:\\partial\\sigma\\to\\mathbb{Z}_2$. Simplicial maps $r:X\\to Y$ preserve the simplicial structure so that if $r(\\sigma) = (a,b)$ then $x_i\\mapsto d_i(a,b)$. Allowing for twisting amounts to modifying this relation according to\n",
    "$$r(x_i) = d_i(a,b)+\\beta(x_i).$$\n",
    "Such twisted distributions appear quite naturally in quantum mechanics, where the appearance of a non-trivial $\\beta$ function is an indicator of non-classical behavior, often called quantum contextuality. For more on the connection to quantum mechanics, see [[Okay, et al. 2017]](https://arxiv.org/abs/1701.01888)[[Okay, et al. 2023]](https://quantum-journal.org/papers/q-2023-05-22-1009/)."
   ]
  },
  {
   "cell_type": "markdown",
   "metadata": {},
   "source": [
    "## Conventions and notation for two-dimensional distributions\n",
    "We input a two-dimensional simplicial set as:\n",
    "-  a set $X_1^{\\circ}$ of non-degenerate edges $\\tau$, which we encode individually as an array: $\\tau_i = [i,[d_0\\tau,d_1\\tau]]$,\n",
    "\n",
    "- we index **degenerate** edges $s_0(c)$ $(c\\in X_0)$ by negative numbers which we formally write as $[-i,[c,c]]$, <!--although we do not need to enumerate these in the definition of a simplicial set.-->\n",
    "\n",
    "- a set $X_2^{\\circ}$ of non-degenerate triangles $\\sigma$, each of which we encode as an array: $\\sigma_i = [i,[d_0\\sigma,d_1\\sigma,d_2\\sigma]]$.\n",
    "\n",
    "#### Twisting\n",
    "\n",
    "We may additionally choose to construct a twisted scenario, in which an edge $\\tau$ in a triangle $\\sigma$ may have a \"twisted\" outcome assignment $\\tau\\mapsto r(\\tau)+\\beta(\\tau)$, as described above. Note that it suffices to twist just one edge. We therefore encode the twisting by an array $\\mathcal{T} = [T_i]$ of elements $T_i = [i,\\beta,k]$, where $i$ is the identifier for $\\sigma_i\\in X_2^{\\circ}$, $\\beta\\in \\mathbb{Z}_d$ identifies the twisting on the $d_k(\\sigma_i)$ edge.\n",
    "\n",
    "**NOTE:** We use Julia indexing so that for $d_k:X_2\\to X_1$ we use $k=1,2,3$ rather than $k=0,1,2$ in the literature.\n",
    "\n",
    "**NOTE:** By default we assume no twisting."
   ]
  },
  {
   "cell_type": "markdown",
   "metadata": {},
   "source": [
    "# Main code for two-dimensional distributions"
   ]
  },
  {
   "cell_type": "markdown",
   "metadata": {},
   "source": [
    "### two_dimensional_distributions\n",
    "\n",
    "**DESCRIPTION:** Takes a two-dimensional space with outcomes in $\\mathbb{Z}_2$ (and possible twisting) and outputs polymake polytope object of convex space of distributions.\n",
    "\n",
    "**INPUT:** two-dimensional simplicial set $\\mathbf{X=[X_0,X_1,X_2]}$; Coordinates: either **PROB** ($p_\\sigma^{ab}$) or **EDGE** ($p_\\tau^a$) coordinates; twisting **$\\mathbf{T=\\{[i,\\beta_i,k]\\}}$**.\n",
    "\n",
    "**OUTPUT:** Polymake polytope object given in $H$-representation. Converting to $V$-description may take time."
   ]
  },
  {
   "cell_type": "code",
   "execution_count": 3,
   "metadata": {},
   "outputs": [
    {
     "data": {
      "text/plain": [
       "two_dimensional_distributions (generic function with 3 methods)"
      ]
     },
     "metadata": {},
     "output_type": "display_data"
    }
   ],
   "source": [
    "# input: X = (X1,X2)\n",
    "function two_dimensional_distributions(X,COORDINATES,d = 2,T=[])\n",
    "    # input to TwoDim is a simplicial set in the convention of SimpSet. \n",
    "    #X = collect(X);\n",
    "    # extract edges and triangles:\n",
    "    X1 = X[2]; X2 = X[3];\n",
    "\n",
    "    if (COORDINATES == \"EDGE\")\n",
    "        if (d == 2)\n",
    "            M = spaces_to_inequalities_EDGE(X1,X2,T);\n",
    "            return pm.polytope.Polytope(INEQUALITIES=M);\n",
    "        else\n",
    "            return \"Edge coordinates only valid for d = 2.\"\n",
    "        end\n",
    "\n",
    "    elseif COORDINATES == \"PROB\"\n",
    "        A, E = spaces_to_inequalities_PROB(X1,X2,d,T);\n",
    "        return pm.polytope.Polytope(INEQUALITIES=A, EQUATIONS = E);\n",
    "        \n",
    "    else\n",
    "        return \"Not a valid input\";\n",
    "    end\n",
    "end"
   ]
  },
  {
   "cell_type": "markdown",
   "metadata": {},
   "source": [
    "## Edge coordinates\n",
    "\n",
    "Given a two-dimensional space $X$ our goal here is to produce a polytope $P_X$ whose facets are given by $p_\\sigma^{ab}\\geq 0$, which up to an overall constant can be expressed as\n",
    "\n",
    "$$ 1+ (-1)^{a+\\beta(x_0)}\\bar{x}_0 + (-1)^{a+b+\\beta(x_1)}\\bar{x}_1 + (-1)^{b+\\beta(x_2)}\\bar{x}_2\\geq 0$$\n",
    "\n",
    "where $x_i$ are the faces of some non-degenerate triangle $\\sigma$. We reqire (1) a preliminary function that produces face maps of an $n$-tuple of $a\\in\\mathbb{Z}_d$ (called dits). (2) \n",
    "A function such that for each $\\sigma\\in X_2^\\circ$ and each $(a,b)\\in \\mathbb{Z}_2^2$ we assign values to the edges as $x_i\\mapsto d_i(a,b)+\\beta(x_i)$. (3) Construct the generating matrix $A$ whose rows $r_\\sigma^{ab}$ are such that $r_\\sigma^{ab}x\\geq 0$ reproduces (up to an overall constant) the inequality $p_\\sigma^{ab}\\geq 0$ in expectation coordinates."
   ]
  },
  {
   "cell_type": "markdown",
   "metadata": {},
   "source": [
    "### nerve_face_map\n",
    "\n",
    "**DESCRIPTION:** Produces face maps of an $n$-simplex of $N\\mathbb{Z}_d$\n",
    "\n",
    "**INPUT:** positive integer $\\mathbf{d}$ (Int64); $n$-dit string $\\mathbf{s}$ (Vector{Int64})\n",
    "\n",
    "**OUTPUT:** Array of face maps (Vector{Vector{Int64}}) "
   ]
  },
  {
   "cell_type": "code",
   "execution_count": 4,
   "metadata": {},
   "outputs": [
    {
     "data": {
      "text/plain": [
       "nerve_face_map (generic function with 1 method)"
      ]
     },
     "metadata": {},
     "output_type": "display_data"
    }
   ],
   "source": [
    "# input: dit-string\n",
    "# output: array of faces of n-tuple of dit-strings\n",
    "# using Eq.(12) of SimpCont\n",
    "function nerve_face_map(s,d)\n",
    "    ds = [];\n",
    "    for i in 1:(length(s)+1)\n",
    "        di_s = [];\n",
    "        # d0 face:\n",
    "        if i == 1\n",
    "            di_s = s[2:end]\n",
    "        # d1 face:\n",
    "        elseif i==2\n",
    "            a = (s[1]+s[2]) % d;\n",
    "            di_s = vcat([a],[s[j] for j in (i+1):length(s)]);\n",
    "        # di face: 2 < i < n+1\n",
    "        elseif (i>2) && (i < (length(s)+1))\n",
    "            a = [s[j] for j in 1:(i-2)];\n",
    "            b = [(s[i-1]+s[i])%d];\n",
    "            if length(vcat(a,b)) == length(s)-1\n",
    "                di_s = vcat(a,b)\n",
    "            else\n",
    "                c = [s[j] for j in (i+1):length(s)];\n",
    "                di_s = vcat(vcat(a,b),c);\n",
    "            end\n",
    "        # dn face:\n",
    "        else\n",
    "            di_s = s[1:(end-1)]\n",
    "        end\n",
    "        #println(di_s)\n",
    "        push!(ds,di_s);\n",
    "    end\n",
    "    return ds\n",
    "end"
   ]
  },
  {
   "cell_type": "markdown",
   "metadata": {},
   "source": [
    "### edge_outcome_assignments\n",
    "\n",
    "**DESCRIPTION:** Maps a $2$-simplex of $N\\mathbb{Z}_d$ to its faces, up to twisting.\n",
    "\n",
    "**INPUT:** $2$-dit string (Vector{Int64}); Twisting $[\\beta,k]$ where ($\\beta = 0,\\cdots,d-1$) and $k = 1,2,3$ (Vector{Any})\n",
    "\n",
    "**NOTE:** Default is no twisting, i.e., $T=[~~]$\n",
    "\n",
    "**OUTPUT:** Array of face maps (Vector{Int64})"
   ]
  },
  {
   "cell_type": "code",
   "execution_count": 5,
   "metadata": {},
   "outputs": [
    {
     "data": {
      "text/plain": [
       "edge_outcome_assignments (generic function with 2 methods)"
      ]
     },
     "metadata": {},
     "output_type": "display_data"
    }
   ],
   "source": [
    "# input: two-bit string (ab) (array of 0/1),\n",
    "# input: twisting (optional): t = [beta,di]: Twisting and the twisted edge: beta in {0,1}, {d0,d1,d2} = {1,2,3} in julia\n",
    "# input: By default, T is empty and there is no twisting.\n",
    "#output: array of length three giving outcome assignment for [b,a+b+beta,a]:\n",
    "\n",
    "function edge_outcome_assignments(ab,T=[])\n",
    "    # default input no twisting, otherwise T=[beta,di] determines twisting:\n",
    "    if isempty(T) == false; beta = T[1]; di = T[2]; else;    beta = 0; di = 1; end;\n",
    "    \n",
    "    # edge assignments with no twisting: (simplicial distributions on 2-simplex)\n",
    "    edge_assignments = [ab[2],((ab[1]+ab[2]) % 2),ab[1]];\n",
    "\n",
    "    # edge assignments with twisting:\n",
    "    edge_assignments[di] = ((edge_assignments[di]+beta) % 2);\n",
    "\n",
    "    return edge_assignments\n",
    "end"
   ]
  },
  {
   "cell_type": "markdown",
   "metadata": {},
   "source": [
    "### spaces_to_inequalities_EDGE\n",
    "\n",
    "**DESCRIPTION:** Constructs matrix $A$ such that $P_X = \\left\\{x\\in\\mathbb{R}^{|X_1^\\circ|}~|~Ax\\geq \\mathbb{0}\\right\\}$.\n",
    "\n",
    "**INPUT:** (1) $X_1$: set of non-degenerate edges (and faces) (Vector{Any}); (2) $X_2$: set of non-degenerate triangles (and faces) (Vector{Any}); Twisting $T_i = [i,\\beta,k]$ (Vector{Any})\n",
    "\n",
    "**NOTE:** Default is no twisting, i.e., $T=[~~]$\n",
    "\n",
    "#### For collapsed edges\n",
    "\n",
    "When an edge $ \\tau : = d_i(\\sigma) = s_0(c)$ is degenerate we have that $d_i(p_\\sigma)(0) = 1$. This corresponds to an expectation value $\\bar{\\tau} = +1$. We impose this restriction in the polytope by modifying the constant term in the inequalities. For instance, supposing that $\\tau_0 := d_0(\\sigma) = s_0(c)$ while $\\tau_i := d_i(\\sigma)$ ($i=1,2$) are non-degenerate, we have that\n",
    "\n",
    "$$p^{ab}_\\sigma = \\frac{1}{4}\\left(1 +(-1)^a + (-1)^{a+b}\\bar{\\tau}_1  + (-1)^{b}\\bar{\\tau}_2\\right)\\geq 0.$$\n",
    "\n",
    "**OUTPUT:** Matrix $A$ (Matrix{Int64})\n"
   ]
  },
  {
   "cell_type": "code",
   "execution_count": 6,
   "metadata": {},
   "outputs": [
    {
     "data": {
      "text/plain": [
       "spaces_to_inequalities_EDGE (generic function with 2 methods)"
      ]
     },
     "metadata": {},
     "output_type": "display_data"
    }
   ],
   "source": [
    "function spaces_to_inequalities_EDGE(X1,X2,T=[])\n",
    "    # number of edges:\n",
    "    N = length(X1); d = 2;\n",
    "    # edges\n",
    "    E = [X1[i][1] for i in 1:N]; dict = Dict(zip(E,[i for i in 1:N]));\n",
    "    \n",
    "    #println(dict)\n",
    "\n",
    "    # extract twisted edges:\n",
    "    if isempty(T) == false; twisted_idx = [T[i][1] for i in 1:length(T)]; else; twisted_idx = []; end;\n",
    "    \n",
    "    # bit strings\n",
    "    Z2_2 = [[i,j] for i in [0,1] for j in [0,1]];\n",
    "\n",
    "    # initialize A matrix for P(A,b)\n",
    "    A = zeros(Int64, 4*length(X2), N+1);\n",
    "\n",
    "    # For each 2-simplex\n",
    "    for i in 1:length(X2)\n",
    "        # extract beta value and face to be applied to:\n",
    "        if X2[i][1] in twisted_idx\n",
    "            # find unique identifier: twist = [beta,di]:\n",
    "            idx = (findall(x->x==X2[i][1],twisted_idx))[1]; twist = [T[idx][2],T[idx][3]];\n",
    "        else\n",
    "            twist = [];\n",
    "        end\n",
    "        \n",
    "        \n",
    "        # assignment of outcomes to edges: (ab) -> [b,a+b,a]:\n",
    "        edge_assignments = [edge_outcome_assignments(ab,twist) for ab in Z2_2];\n",
    "        # assign coefficients of edges:\n",
    "        edge_coefficients = [[(-1)^s[1],(-1)^s[2],(-1)^s[3]] for s in edge_assignments];\n",
    "        \n",
    "        \n",
    "        for j in 1:4\n",
    "            # initialize row vector of zeros\n",
    "            a = zeros(Int8,N+1);\n",
    "            \n",
    "            \n",
    "            # row vector defined by sum of projectors (-1)^a*P1+(-1)^b*P2+(-1)^a+b*P3\n",
    "            for k in 1:3\n",
    "                P = zeros(Int64,N+1);\n",
    "                e = X2[i][2][k];\n",
    "                # if degenerate modify constant term:\n",
    "                if e < 0\n",
    "                    P[1] = P[1]+edge_coefficients[j][k];\n",
    "                elseif e > 0\n",
    "                    x = dict[e];\n",
    "                    P[x+1] = edge_coefficients[j][k];\n",
    "                end\n",
    "                a = a + P;\n",
    "            end\n",
    "            \n",
    "            # add constant term:\n",
    "            a[1] = a[1]+1;\n",
    "            \n",
    "            # determine ordering or inequalities:\n",
    "            row = 4*(i-1)+j;\n",
    "            # append to matrix\n",
    "            A[row,:] = a;\n",
    "            \n",
    "        end\n",
    "    end\n",
    "    \n",
    "    return A\n",
    "end"
   ]
  },
  {
   "cell_type": "markdown",
   "metadata": {},
   "source": [
    "## Probability coordinates:\n",
    "Goal is to generate inequalities $p_{\\sigma}^{ab}\\geq 0$ for all $\\sigma\\in X_2$ supplemented by compatibility conditions $d_i p_{\\sigma} = d_j p_{\\sigma^\\prime}$ whenever $d_i(\\sigma)=d_j(\\sigma^\\prime)$."
   ]
  },
  {
   "cell_type": "markdown",
   "metadata": {},
   "source": [
    "### spaces_to_inequalities_PROB\n",
    "\n",
    "**DESCRIPTION:** Let $D_x = |\\mathbb{Z}_d^2|\\times |X_2^\\circ|$ and let $C_X$ be the number of compatibility relations such that $d_i\\sigma = d_j\\sigma^\\prime$, where neither $i,j$ nor $\\sigma,\\sigma^\\prime$ need be distinct. We work with a homogenizing coordinate $x_0 =1$ so that $x\\in \\mathbb{R}^{D_X+1}$. We then construct two matrices $A\\in \\mathbb{R}^{D_x\\times (D_X+1)}$ and $C \\in \\mathbb{R}^{C_X\\times (D_X+1)}$ such that\n",
    "\n",
    "$$P_X = \\left\\{x\\in\\mathbb{R}^{D_X+1}~|~Ax\\geq \\mathbb{0},~Cx=0\\right\\}.$$\n",
    "\n",
    "**INPUT:** (1) $X_1$: set of non-degenerate edges (and faces) (Vector{Any}); (2) $X_2$: set of non-degenerate triangles (and faces) (Vector{Any}); Twisting $T_i = [i,\\beta,k]$ (Vector{Any})\n",
    "\n",
    "**INPUT:** $d$ (Int64): Number of outcomes, $\\mathbb{Z}_d$.\n",
    "\n",
    "**NOTE:** Default is no twisting, i.e., $T=[~~]$\n",
    "\n",
    "**OUTPUT:**  (A,C) (Tuple{Matrix{Int64},Matrix{Int64}})"
   ]
  },
  {
   "cell_type": "code",
   "execution_count": 7,
   "metadata": {},
   "outputs": [
    {
     "data": {
      "text/plain": [
       "spaces_to_inequalities_PROB (generic function with 2 methods)"
      ]
     },
     "metadata": {},
     "output_type": "display_data"
    }
   ],
   "source": [
    "function spaces_to_inequalities_PROB(X1,X2,d,T=[])\n",
    "    # define matrix of nonnegativity inequalities:\n",
    "    A = nonnegative(X2,d);\n",
    "    N = normalization_matrix(X2,d);\n",
    "    C = two_dimensional_compatibility(X1,X2,d,T);\n",
    "    Co = collapse_conditions(d,X2,T)\n",
    "    return A, vcat(N,C,Co)\n",
    "end"
   ]
  },
  {
   "cell_type": "markdown",
   "metadata": {},
   "source": [
    "### nonnegative\n",
    "\n",
    "**DESCRIPTION:** Construct a matrix $A\\in\\mathbb{R}^{D_X\\times (D_X+1)}$ which enforces non-negativity $Ax\\geq 0$.\n",
    "\n",
    "**INPUT:** $X_n^\\circ$: Array of non-degenerate $n$-simplices (Vector{Any}).\n",
    "\n",
    "**INPUT:** $d$ (Int64): Number of outcomes, $\\mathbb{Z}_d$.\n",
    "\n",
    "**OUTPUT:**  A (Matrix{Int64})"
   ]
  },
  {
   "cell_type": "code",
   "execution_count": 8,
   "metadata": {},
   "outputs": [
    {
     "data": {
      "text/plain": [
       "nonnegative (generic function with 1 method)"
      ]
     },
     "metadata": {},
     "output_type": "display_data"
    }
   ],
   "source": [
    "# call Linear Algebra package:\n",
    "using LinearAlgebra\n",
    "\n",
    "# Written with Z2 and two-dimensional spaces in mind, but could be generalized.\n",
    "# input: Array of nondegenerate simplices whose dimension is given by length of array:\n",
    "function nonnegative(Xn,d)\n",
    "\n",
    "    # extract dimension of simplices:\n",
    "    dim = (length(Xn[1][2])-1);\n",
    "\n",
    "    # Determine number of probability parameters to marginalize over:\n",
    "    L = length(Xn); N_prob = d^(dim); N = N_prob*L;\n",
    "\n",
    "    # create matrix of inequalities:\n",
    "    Id = Matrix{Int}(I,N,N); Z = (zeros(Int8,N));\n",
    "    #concatenate\n",
    "    A = hcat(Z,Id);             \n",
    "    return A\n",
    "end"
   ]
  },
  {
   "cell_type": "markdown",
   "metadata": {},
   "source": [
    "### normalization_matrix\n",
    "\n",
    "**DESCRIPTION:** Construct a matrix $N\\in\\mathbb{R}^{|X_2^\\circ|\\times (D_X+1)}$ which enforces the normalization constraints $Nx=0$.\n",
    "\n",
    "**INPUT:** $X_n^\\circ$: Array of non-degenerate $n$-simplices (Vector{Any}).\n",
    "\n",
    "**INPUT:** $d$ (Int64): Number of outcomes, $\\mathbb{Z}_d$.\n",
    "\n",
    "**OUTPUT:**  N (Matrix{Int64})"
   ]
  },
  {
   "cell_type": "code",
   "execution_count": 9,
   "metadata": {},
   "outputs": [
    {
     "data": {
      "text/plain": [
       "normalization_matrix (generic function with 1 method)"
      ]
     },
     "metadata": {},
     "output_type": "display_data"
    }
   ],
   "source": [
    "# function: normalization constraints: Outcomes in Zd:\n",
    "# input: Two-dimensional simplicial set. Can be generalized to higher dimensions.\n",
    "# output: matrix of norm. constraints.\n",
    "function normalization_matrix(Xn,d)\n",
    "    L = length(Xn); simplex_dim = [(length(Xn[i][2])-1) for i in 1:L];\n",
    "    N_simplex = [d^x for x in simplex_dim]; N = sum(N_simplex);\n",
    "\n",
    "    # initialize matrix of constraints:\n",
    "    init = zeros(Int8, L, N); col = -ones(Int8,L);\n",
    "    NORM = hcat(col,init);\n",
    "\n",
    "    # set counter:\n",
    "    m = 0; for i in range(1,L) n=m+N_simplex[i]; NORM[i,(m+2):n+1] .= 1; m=n;  end\n",
    "    return NORM\n",
    "end"
   ]
  },
  {
   "cell_type": "markdown",
   "metadata": {},
   "source": [
    "### collapse_conditions\n",
    "\n",
    "**DESCRIPTION:** Construct a matrix $\\Pi$ such that $d_i(p_\\sigma) = 1$ whenever $d_i(\\sigma) = s_0(c)$. This is accomplished by setting the appropriate $p_\\sigma^{ab} = 0$, i.e. $\\Pi x = 0$, where $x$ is a vector consisting of all probabilities $p_\\sigma^{ab}$ for all $\\sigma \\in X_2^\\circ$.\n",
    "\n",
    "**INPUT:** $X_1^\\circ$: Array of non-degenerate $1$-simplices (Vector{Any}); $X_2^\\circ$: Array of non-degenerate $2$-simplices (Vector{Any}); $T$: twisting (Vector{Any})\n",
    "\n",
    "**INPUT:** $d$ (Int64): Number of outcomes, $\\mathbb{Z}_d$.\n",
    "\n",
    "**OUTPUT:**  Matrix $\\Pi$ (Matrix{Int64})"
   ]
  },
  {
   "cell_type": "code",
   "execution_count": 10,
   "metadata": {},
   "outputs": [
    {
     "data": {
      "text/plain": [
       "collapse_conditions (generic function with 2 methods)"
      ]
     },
     "metadata": {},
     "output_type": "display_data"
    }
   ],
   "source": [
    "function collapse_conditions(d,X2,T = [])\n",
    "    # Determine number of probability parameters to marginalize over:\n",
    "    L = length(X2); N_prob = d^(2); N = N_prob*L;\n",
    "    \n",
    "    # Triangle indices:\n",
    "    S = [X2[i][1] for i in 1:L]\n",
    "    \n",
    "    # Twisted triangles:\n",
    "    Ti = [T[i][1] for i in 1:length(T)];\n",
    "    twist_dict = Dict(zip(Ti,[i for i in 1:length(T)]))\n",
    "    \n",
    "    # initialize constraint matrix\n",
    "    C = Array{Int64}(undef, 0, N+1);\n",
    "    \n",
    "    # generate all dit-strings of length 2:\n",
    "    Zd_2 = all_dit_strings(d,2);\n",
    "    # dictionary: map z in Zd_2 to {1,..,d^2}:\n",
    "    dict = Dict(zip(Zd_2,[i for i in 1:(d^2)]))\n",
    "    \n",
    "    # search for degenerate edges:\n",
    "    for i in 1:L\n",
    "        E = X2[i][2]; s = X2[i][1];\n",
    "        D = findall(x->x < 0,E);\n",
    "        \n",
    "        # Twisted faces:\n",
    "        if s in Ti\n",
    "            beta = T[twist_dict[s]][2];\n",
    "            dk = T[twist_dict[s]][3]\n",
    "        else\n",
    "            dk = []; beta = 0;\n",
    "        end\n",
    "        \n",
    "        \n",
    "        # elements of Deg are faces of 2-simplex\n",
    "        for dd in D\n",
    "            if dd == dk; z = beta; else; z = 0; end;\n",
    "            f = compatible_face_maps(d,[z],dd);\n",
    "            f_perp = [z for z in Zd_2 if z ∉ f];\n",
    "            for k in f_perp\n",
    "                n = dict[k]; column = (d^2)*(i-1)+1+n;\n",
    "                \n",
    "                # create row\n",
    "                c = zeros(Rational{Int64},(1,N+1));\n",
    "                c[column] = 1; C = vcat(C,c)\n",
    "            end\n",
    "        end\n",
    "    end\n",
    "    return C\n",
    "end"
   ]
  },
  {
   "cell_type": "markdown",
   "metadata": {},
   "source": [
    "### two_dimensional_compatibility\n",
    "\n",
    "**DESCRIPTION:** Construct a matrix $C\\in\\mathbb{R}^{C_X\\times (D_X+1)}$ which enforces the compatibility constraints $Cx=0$. To do this, find all edges $\\tau\\in X_1^\\circ$ such that $\\tau = d_k\\sigma = d_{k^\\prime}\\sigma^\\prime$. Letting the outcome on an edge $d_k\\sigma$ be given by $s(d_k\\sigma) = d_k(a,b)+\\beta(d_k\\sigma)$, we compute the corresponding marginals according to\n",
    "\n",
    "$$p_\\tau^c = \\sum_{a,b: ~s(d_k\\sigma) = c}p_\\sigma^{ab} = \\sum_{a,b:~s(d_{k^\\prime}\\sigma^\\prime) = c} p_{\\sigma^\\prime}^{ab}~$$\n",
    "\n",
    "This is encoded by a row vector that has two $+1$ entries and two $-1$ entries corresponding to those $2$-bit strings $(a,b)$ such that $s(d_k\\sigma) = c$, etc.\n",
    "\n",
    "**INPUT:** $X_1^\\circ$: Array of non-degenerate $1$-simplices (Vector{Any}); $X_2^\\circ$: Array of non-degenerate $2$-simplices (Vector{Any}); $T$: twisting (Vector{Any})\n",
    "\n",
    "**INPUT:** $d$ (Int64): Number of outcomes, $\\mathbb{Z}_d$.\n",
    "\n",
    "**OUTPUT:**  C (Matrix{Int64})"
   ]
  },
  {
   "cell_type": "code",
   "execution_count": 11,
   "metadata": {},
   "outputs": [
    {
     "data": {
      "text/plain": [
       "two_dimensional_compatibility (generic function with 2 methods)"
      ]
     },
     "metadata": {},
     "output_type": "display_data"
    }
   ],
   "source": [
    "using Combinatorics\n",
    "\n",
    "# input: two-dimensional simplicial set: (X1, X2).\n",
    "# input: twisting: T = [Ti], where Ti = [idx,beta,dk]\n",
    "# output: matrix of compatibility relationships\n",
    "function two_dimensional_compatibility(X1, X2, d, T=[])\n",
    "\n",
    "    # extract dimension of simplices:\n",
    "    dim1 = (length(X1[1][2])-1); dim2 = (length(X2[1][2])-1);\n",
    "\n",
    "    # Determine number of probability parameters to marginalize over:\n",
    "    L = length(X2); N_prob = d^(dim2); N = N_prob*L;\n",
    "    \n",
    "    # Array of edges occuring in each triangle: [f_i,sigma_k]\n",
    "    F = faces_in_simplex(X1,X2);\n",
    "\n",
    "    #println(F)\n",
    "\n",
    "    # map simplex identifiers to position index in array (X2):\n",
    "    dict = Dict(zip([x[1] for x in X2],[i for i in 1:length(X2)]));\n",
    "\n",
    "    # NS condition whenever f in X1 occurs twice:\n",
    "    # for all edges that appear more than once, we impose compatibility:\n",
    "    NS = Array{Int64}(undef, 0, N+1); # initialize NS matrix\n",
    "    for i in 1:length(F)\n",
    "        # n-simplices (f[2]) for which the (n-1)-simplex (edge) (f[1]) is a face: \n",
    "        if length(F[i]) > 1\n",
    "            # generate all pairs of simplices glued along same edge:\n",
    "            F_combinations = combinations(F[i],2);\n",
    "            for f in F_combinations\n",
    "                # initialize row vector for constraint:\n",
    "                init1 = zeros(Int64, 1, N+1); init2 = zeros(Int64, 1, N+1);\n",
    "                \n",
    "                # specify all n (n-1) simplices of NZ_d:\n",
    "                lower_outcomes = all_dit_strings(d,dim1); higher_outcomes = all_dit_strings(d,dim2);\n",
    "\n",
    "                # extract simplex idx:\n",
    "                simplex_1 = f[1][2]; simplex_2= f[2][2];\n",
    "                # extract face maps:\n",
    "                di_1 = f[1][1]; di_2 = f[2][1];\n",
    "\n",
    "                # twisted edges:\n",
    "                idx1 = findall(x->x[1]==simplex_1,T); idx2 = findall(x->x[1]==simplex_2,T);\n",
    "\n",
    "                if isempty(idx1) == false\n",
    "                    beta1 = T[idx1[1]][2]; face1 = T[idx1[1]][3];\n",
    "                else\n",
    "                    beta1 = 0; face1 = copy(di_1);\n",
    "                end\n",
    "\n",
    "                if isempty(idx2) == false\n",
    "                    beta2 = T[idx2[1]][2]; face2 = T[idx2[1]][3];\n",
    "                else\n",
    "                    beta2 = 0; face2 = copy(di_2);\n",
    "                end\n",
    "\n",
    "\n",
    "                for s in lower_outcomes\n",
    "                    #println(s)\n",
    "                    # Determine parameters that enter into marginalization:\n",
    "                    if (isempty(idx1)==false) && (face1 == di_1)\n",
    "                        s_prime = [(a + beta1) % 2 for a in s];\n",
    "                        s1 = compatible_face_maps(d,s_prime,di_1);\n",
    "                    else\n",
    "                        s1 = compatible_face_maps(d,s,di_1);\n",
    "                    end\n",
    "                    \n",
    "                    if (isempty(idx2)==false) && (face2 == di_2)\n",
    "                        s_prime = [(a + beta2) % 2 for a in s];\n",
    "                        s2 = compatible_face_maps(d,s_prime,di_2);\n",
    "                    else\n",
    "                        s2 = compatible_face_maps(d,s,di_2);\n",
    "                    end\n",
    "\n",
    "                    eta1 = [indicator_function(x,s1) for x in higher_outcomes];\n",
    "                    eta2 = [-indicator_function(x,s2) for x in higher_outcomes];\n",
    "\n",
    "                    # define map of d^n length array into N x d^n length array:\n",
    "                    sigma1 = f[1][2]; i1 = dict[sigma1]; sigma2 = f[2][2]; i2 = dict[sigma2];\n",
    "                    END1 = i1*(N_prob)+1; INT1 = END1-(N_prob)+1;\n",
    "                    END2 = i2*(N_prob)+1; INT2 = END2-(N_prob)+1;#\n",
    "\n",
    "                    # define interval where constraint is non-trivial:\n",
    "                    p1 = [i for i in INT1:END1]; p2 = [i for i in INT2:END2];\n",
    "                    init1[p1] = eta1; init2[p2] = eta2; init = init1+init2;\n",
    "                    NS = vcat(NS,init);\n",
    "                end\n",
    "            end\n",
    "        end\n",
    "    end\n",
    "    return NS\n",
    "end"
   ]
  },
  {
   "cell_type": "markdown",
   "metadata": {},
   "source": [
    "### Supporting functions:"
   ]
  },
  {
   "cell_type": "markdown",
   "metadata": {},
   "source": [
    "### faces_in_simplex\n",
    "\n",
    "**DESCRIPTION:** For a simplicial set $X$ and $\\sigma_{n-1}\\in X_{n-1}$, determine which $n$-simplices that $\\sigma_{n-1}$ is a face of.\n",
    "\n",
    "**INPUT:** $X_{n-1}^\\circ$: Array of non-degenerate $(n-1)$-simplices (Vector{Any}); $X_n^\\circ$: Array of non-degenerate $n$-simplices (Vector{Any});\n",
    "\n",
    "**OUTPUT:**  Array of arrays (Vector{Vector{Any}})"
   ]
  },
  {
   "cell_type": "code",
   "execution_count": 12,
   "metadata": {},
   "outputs": [
    {
     "data": {
      "text/plain": [
       "faces_in_simplex (generic function with 1 method)"
      ]
     },
     "metadata": {},
     "output_type": "display_data"
    }
   ],
   "source": [
    "# Determine all faces (edges) ocurring in each higher simplex (triangle)\n",
    "# input: two-dimensional simplicial set (applies to Delta_n, Delta_n-1, as well)\n",
    "# output: array of [face,simplex] for each f in Delta_n-1\n",
    "function faces_in_simplex(X1,X2)\n",
    "    F = [];\n",
    "    for x1 in X1\n",
    "        # isolate edge identifier:\n",
    "        tau = x1[1]; f = [];\n",
    "\n",
    "        # check if tau is a face of each triangle sigma:\n",
    "        for x2 in X2\n",
    "            sigma = x2[1]; faces = x2[2]; tau_in_sigma = findall(y->y==tau,faces);\n",
    "\n",
    "            # if tau is a face, register it:\n",
    "            if isempty(tau_in_sigma) == false\n",
    "                for k in tau_in_sigma; push!(f,[k,sigma]) end;\n",
    "            end\n",
    "        end\n",
    "        push!(F,f);\n",
    "    end\n",
    "    return F\n",
    "end"
   ]
  },
  {
   "cell_type": "markdown",
   "metadata": {},
   "source": [
    "#### compatible_face_maps:\n",
    "**DESCRIPTION:** Let $x_n \\in \\mathbb{Z}_d^n$ be an $n$-simplex of $N\\mathbb{Z}_d$ and fix a face map $d_{i-1}$ $(i=1,\\cdots,n+1)$. We define a function which constructs the following set:\n",
    "$$s(x_{n-1},d_{i-1}) := \\{x_n\\in \\mathbb{Z}_d^n~:~d_{i-1}(x_n)=x_{n-1}\\}.$$\n",
    "\n",
    "**INPUT:** Positive integer: $d$ (Int64); Array of integers: $x_{n-1} = (a_1,\\cdots,a_{n-1})\\in\\mathbb{Z}_d^{n-1}$ (Vector{Int64}); Positive integer: $i = 1,\\cdots,n+1$ such that $d_{i-1}x_n = x_{n-1}$ (Int64)\n",
    "\n",
    "**OUTPUT:** Array of all higher $n$-dit strings $d_{i-1}x_n=x_{n-1}$: Array of arrays (Vector{Vector{Int64}})"
   ]
  },
  {
   "cell_type": "code",
   "execution_count": 13,
   "metadata": {},
   "outputs": [
    {
     "data": {
      "text/plain": [
       "compatible_face_maps (generic function with 1 method)"
      ]
     },
     "metadata": {},
     "output_type": "display_data"
    }
   ],
   "source": [
    "# function: find all dit-strings of length k+1 with face maps coinciding on target dit-string s_k\n",
    "# input: outcomes (d) (Z_d); target dit-string (s_k); di (ith face map)\n",
    "function compatible_face_maps(d,s_k,i)\n",
    "    k = length(s_k); higher_bitstrings = all_dit_strings(d,k+1);\n",
    "\n",
    "    # simplices sn of (NZd)_n such that di(sn) = sn_1\n",
    "    S = [];\n",
    "    for s in higher_bitstrings\n",
    "        ds = nerve_face_map(s,d);\n",
    "        if ds[i] == s_k\n",
    "            push!(S,s)\n",
    "        end\n",
    "    end\n",
    "    return S\n",
    "end"
   ]
  },
  {
   "cell_type": "markdown",
   "metadata": {},
   "source": [
    "#### indicator_function:\n",
    "\n",
    "**DESCRIPTION:** Introduce a function $\\eta[s]:=\\eta\\left[s(x_{n-1},d_{i-1})\\right]$ where $\\eta[s]:\\mathbb{Z}_d^n\\to\\{0,1\\}$, which is given by:\n",
    "$$\\eta[s](x_n) =%\n",
    "\\begin{cases}\n",
    "      1 & x_n \\in s(x_{n-1},d_{i-1})\\\\\n",
    "      0 & \\text{otherwise}\n",
    "\\end{cases}. $$\n",
    "\n",
    "Such a function indicates when a particular parameter will enter into the marginalization necessary for the NS conditions.\n",
    "\n",
    "**INPUT:** dit-string: Array of integer (Vector{Int64}); Array of dit-strings (Vector{Vector{Int64}})\n",
    "\n",
    "**OUTPUT:** eta (Int64)"
   ]
  },
  {
   "cell_type": "code",
   "execution_count": 14,
   "metadata": {},
   "outputs": [
    {
     "data": {
      "text/plain": [
       "indicator_function (generic function with 1 method)"
      ]
     },
     "metadata": {},
     "output_type": "display_data"
    }
   ],
   "source": [
    "function indicator_function(bit_string,faces)\n",
    "    if bit_string in faces; return 1; else; return 0; end;\n",
    "end"
   ]
  },
  {
   "cell_type": "markdown",
   "metadata": {},
   "source": [
    "#### generate_dit_strings and all_dit_strings\n",
    "\n",
    "**DESCRIPTION:** Recursive function that generates all dit strings of length $N$\n",
    "\n",
    "**INPUT:** Positive integer: $d$ (Int64); Positive integer: $N$ (Int64)\n",
    "\n",
    "**OUTPUT:** Array of arrays ($d^N$ length array with elements of $N$-dit strings) (Vector{Vector{Iny64}})"
   ]
  },
  {
   "cell_type": "code",
   "execution_count": 15,
   "metadata": {},
   "outputs": [
    {
     "data": {
      "text/plain": [
       "generate_dit_strings (generic function with 1 method)"
      ]
     },
     "metadata": {},
     "output_type": "display_data"
    }
   ],
   "source": [
    "# recursive loop to construct all dit strings:\n",
    "function generate_dit_strings(d,N,n,s)\n",
    "    if n < N\n",
    "        Zd = [(i-1) for i in 1:d] ; dit_strings = [];\n",
    "        for i in 1:length(s)\n",
    "            for x in Zd\n",
    "                #println(i)\n",
    "                push!(dit_strings,push!(copy(s[i]),x));\n",
    "            end\n",
    "        end\n",
    "        s = dit_strings; n = n+1;\n",
    "        generate_dit_strings(d,N,n,s)\n",
    "    else\n",
    "        return s\n",
    "    end\n",
    "end"
   ]
  },
  {
   "cell_type": "code",
   "execution_count": 16,
   "metadata": {},
   "outputs": [
    {
     "data": {
      "text/plain": [
       "all_dit_strings (generic function with 1 method)"
      ]
     },
     "metadata": {},
     "output_type": "display_data"
    }
   ],
   "source": [
    "# input: outcomes (d) and number of generators (N) (N=dim(simplex))\n",
    "function all_dit_strings(d,N)\n",
    "    s = [[i-1] for i in 1:d]; n = 1;\n",
    "    return generate_dit_strings(d,N,n,s)\n",
    "end"
   ]
  },
  {
   "cell_type": "markdown",
   "metadata": {},
   "source": [
    "## Probability coordinates:\n",
    "Goal is to generate inequalities $p_{\\sigma}^{ab}\\geq 0$ for all $\\sigma\\in X_2$ supplemented by compatibility conditions $d_i p_{\\sigma} = d_j p_{\\sigma^\\prime}$ whenever $d_i(\\sigma)=d_j(\\sigma^\\prime)$."
   ]
  },
  {
   "cell_type": "markdown",
   "metadata": {},
   "source": [
    "### spaces_to_inequalities_PROB\n",
    "\n",
    "**DESCRIPTION:** Let $D_x = |\\mathbb{Z}_d^2|\\times |X_2^\\circ|$ and let $C_X$ be the number of compatibility relations such that $d_i\\sigma = d_j\\sigma^\\prime$, where neither $i,j$ nor $\\sigma,\\sigma^\\prime$ need be distinct. We work with a homogenizing coordinate $x_0 =1$ so that $x\\in \\mathbb{R}^{D_X+1}$. We then construct two matrices $A\\in \\mathbb{R}^{D_x\\times (D_X+1)}$ and $C \\in \\mathbb{R}^{C_X\\times (D_X+1)}$ such that\n",
    "\n",
    "$$P_X = \\left\\{x\\in\\mathbb{R}^{D_X+1}~|~Ax\\geq \\mathbb{0},~Cx=0\\right\\}.$$\n",
    "\n",
    "**INPUT:** (1) $X_1$: set of non-degenerate edges (and faces) (Vector{Any}); (2) $X_2$: set of non-degenerate triangles (and faces) (Vector{Any}); Twisting $T_i = [i,\\beta,k]$ (Vector{Any})\n",
    "\n",
    "**INPUT:** $d$ (Int64): Number of outcomes, $\\mathbb{Z}_d$.\n",
    "\n",
    "**NOTE:** Default is no twisting, i.e., $T=[~~]$\n",
    "\n",
    "**OUTPUT:**  (A,C) (Tuple{Matrix{Int64},Matrix{Int64}})"
   ]
  },
  {
   "cell_type": "code",
   "execution_count": 17,
   "metadata": {},
   "outputs": [
    {
     "data": {
      "text/plain": [
       "spaces_to_inequalities_PROB (generic function with 2 methods)"
      ]
     },
     "metadata": {},
     "output_type": "display_data"
    }
   ],
   "source": [
    "function spaces_to_inequalities_PROB(X1,X2,d,T=[])\n",
    "    # define matrix of nonnegativity inequalities:\n",
    "    A = nonnegative(X2,d); N = normalization_matrix(X2,d); C = two_dimensional_compatibility(X1,X2,d,T);\n",
    "    return A, vcat(N,C)\n",
    "end"
   ]
  },
  {
   "cell_type": "markdown",
   "metadata": {},
   "source": [
    "### nonnegative\n",
    "\n",
    "**DESCRIPTION:** Construct a matrix $A\\in\\mathbb{R}^{D_X\\times (D_X+1)}$ which enforces non-negativity $Ax\\geq 0$.\n",
    "\n",
    "**INPUT:** $X_n^\\circ$: Array of non-degenerate $n$-simplices (Vector{Any}).\n",
    "\n",
    "**INPUT:** $d$ (Int64): Number of outcomes, $\\mathbb{Z}_d$.\n",
    "\n",
    "**OUTPUT:**  A (Matrix{Int64})"
   ]
  },
  {
   "cell_type": "code",
   "execution_count": 18,
   "metadata": {},
   "outputs": [
    {
     "data": {
      "text/plain": [
       "nonnegative (generic function with 1 method)"
      ]
     },
     "metadata": {},
     "output_type": "display_data"
    }
   ],
   "source": [
    "# call Linear Algebra package:\n",
    "using LinearAlgebra\n",
    "\n",
    "# Written with Z2 and two-dimensional spaces in mind, but could be generalized.\n",
    "# input: Array of nondegenerate simplices whose dimension is given by length of array:\n",
    "function nonnegative(Xn,d)\n",
    "\n",
    "    # extract dimension of simplices:\n",
    "    dim = (length(Xn[1][2])-1);\n",
    "\n",
    "    # Determine number of probability parameters to marginalize over:\n",
    "    L = length(Xn); N_prob = d^(dim); N = N_prob*L;\n",
    "\n",
    "    # create matrix of inequalities:\n",
    "    Id = Matrix{Int}(I,N,N); Z = (zeros(Int8,N));\n",
    "    #concatenate\n",
    "    A = hcat(Z,Id);             \n",
    "    return A\n",
    "end"
   ]
  },
  {
   "cell_type": "markdown",
   "metadata": {},
   "source": [
    "### normalization_matrix\n",
    "\n",
    "**DESCRIPTION:** Construct a matrix $N\\in\\mathbb{R}^{|X_2^\\circ|\\times (D_X+1)}$ which enforces the normalization constraints $Nx=0$.\n",
    "\n",
    "**INPUT:** $X_n^\\circ$: Array of non-degenerate $n$-simplices (Vector{Any}).\n",
    "\n",
    "**INPUT:** $d$ (Int64): Number of outcomes, $\\mathbb{Z}_d$.\n",
    "\n",
    "**OUTPUT:**  N (Matrix{Int64})"
   ]
  },
  {
   "cell_type": "code",
   "execution_count": 19,
   "metadata": {},
   "outputs": [
    {
     "data": {
      "text/plain": [
       "normalization_matrix (generic function with 1 method)"
      ]
     },
     "metadata": {},
     "output_type": "display_data"
    }
   ],
   "source": [
    "# function: normalization constraints: Outcomes in Zd:\n",
    "# input: Two-dimensional simplicial set. Can be generalized to higher dimensions.\n",
    "# output: matrix of norm. constraints.\n",
    "function normalization_matrix(Xn,d)\n",
    "    L = length(Xn); simplex_dim = [(length(Xn[i][2])-1) for i in 1:L];\n",
    "    N_simplex = [d^x for x in simplex_dim]; N = sum(N_simplex);\n",
    "\n",
    "    # initialize matrix of constraints:\n",
    "    init = zeros(Int8, L, N); col = -ones(Int8,L);\n",
    "    NORM = hcat(col,init);\n",
    "\n",
    "    # set counter:\n",
    "    m = 0; for i in range(1,L) n=m+N_simplex[i]; NORM[i,(m+2):n+1] .= 1; m=n;  end\n",
    "    return NORM\n",
    "end"
   ]
  },
  {
   "cell_type": "markdown",
   "metadata": {},
   "source": [
    "### two_dimensional_compatibility\n",
    "\n",
    "**DESCRIPTION:** Construct a matrix $C\\in\\mathbb{R}^{C_X\\times (D_X+1)}$ which enforces the compatibility constraints $Cx=0$. To do this, find all edges $\\tau\\in X_1^\\circ$ such that $\\tau = d_k\\sigma = d_{k^\\prime}\\sigma^\\prime$. Letting the outcome on an edge $d_k\\sigma$ be given by $s(d_k\\sigma) = d_k(a,b)+\\beta(d_k\\sigma)$, we compute the corresponding marginals according to\n",
    "\n",
    "$$p_\\tau^c = \\sum_{a,b: ~s(d_k\\sigma) = c}p_\\sigma^{ab} = \\sum_{a,b:~s(d_{k^\\prime}\\sigma^\\prime) = c} p_{\\sigma^\\prime}^{ab}~$$\n",
    "\n",
    "This is encoded by a row vector that has two $+1$ entries and two $-1$ entries corresponding to those $2$-bit strings $(a,b)$ such that $s(d_k\\sigma) = c$, etc.\n",
    "\n",
    "**INPUT:** $X_1^\\circ$: Array of non-degenerate $1$-simplices (Vector{Any}); $X_2^\\circ$: Array of non-degenerate $2$-simplices (Vector{Any}); $T$: twisting (Vector{Any})\n",
    "\n",
    "**INPUT:** $d$ (Int64): Number of outcomes, $\\mathbb{Z}_d$.\n",
    "\n",
    "**OUTPUT:**  C (Matrix{Int64})"
   ]
  },
  {
   "cell_type": "code",
   "execution_count": 20,
   "metadata": {},
   "outputs": [
    {
     "data": {
      "text/plain": [
       "two_dimensional_compatibility (generic function with 2 methods)"
      ]
     },
     "metadata": {},
     "output_type": "display_data"
    }
   ],
   "source": [
    "using Combinatorics\n",
    "\n",
    "# input: two-dimensional simplicial set: (X1, X2).\n",
    "# input: twisting: T = [Ti], where Ti = [idx,beta,dk]\n",
    "# output: matrix of compatibility relationships\n",
    "function two_dimensional_compatibility(X1, X2, d, T=[])\n",
    "\n",
    "    # extract dimension of simplices:\n",
    "    dim1 = (length(X1[1][2])-1); dim2 = (length(X2[1][2])-1);\n",
    "\n",
    "    # Determine number of probability parameters to marginalize over:\n",
    "    L = length(X2); N_prob = d^(dim2); N = N_prob*L;\n",
    "    \n",
    "    # Array of edges occuring in each triangle: [f_i,sigma_k]\n",
    "    F = faces_in_simplex(X1,X2);\n",
    "\n",
    "    #println(F)\n",
    "\n",
    "    # map simplex identifiers to position index in array (X2):\n",
    "    dict = Dict(zip([x[1] for x in X2],[i for i in 1:length(X2)]));\n",
    "\n",
    "    # NS condition whenever f in X1 occurs twice:\n",
    "    # for all edges that appear more than once, we impose compatibility:\n",
    "    NS = Array{Int64}(undef, 0, N+1); # initialize NS matrix\n",
    "    for i in 1:length(F)\n",
    "        # n-simplices (f[2]) for which the (n-1)-simplex (edge) (f[1]) is a face: \n",
    "        if length(F[i]) > 1\n",
    "            # generate all pairs of simplices glued along same edge:\n",
    "            F_combinations = combinations(F[i],2);\n",
    "            for f in F_combinations\n",
    "                # initialize row vector for constraint:\n",
    "                init1 = zeros(Int64, 1, N+1); init2 = zeros(Int64, 1, N+1);\n",
    "                \n",
    "                # specify all n (n-1) simplices of NZ_d:\n",
    "                lower_outcomes = all_dit_strings(d,dim1); higher_outcomes = all_dit_strings(d,dim2);\n",
    "\n",
    "                # extract simplex idx:\n",
    "                simplex_1 = f[1][2]; simplex_2= f[2][2];\n",
    "                # extract face maps:\n",
    "                di_1 = f[1][1]; di_2 = f[2][1];\n",
    "\n",
    "                # twisted edges:\n",
    "                idx1 = findall(x->x[1]==simplex_1,T); idx2 = findall(x->x[1]==simplex_2,T);\n",
    "\n",
    "                if isempty(idx1) == false\n",
    "                    beta1 = T[idx1[1]][2]; face1 = T[idx1[1]][3];\n",
    "                else\n",
    "                    beta1 = 0; face1 = copy(di_1);\n",
    "                end\n",
    "\n",
    "                if isempty(idx2) == false\n",
    "                    beta2 = T[idx2[1]][2]; face2 = T[idx2[1]][3];\n",
    "                else\n",
    "                    beta2 = 0; face2 = copy(di_2);\n",
    "                end\n",
    "\n",
    "\n",
    "                for s in lower_outcomes\n",
    "                    #println(s)\n",
    "                    # Determine parameters that enter into marginalization:\n",
    "                    if (isempty(idx1)==false) && (face1 == di_1)\n",
    "                        s_prime = [(a + beta1) % 2 for a in s];\n",
    "                        s1 = compatible_face_maps(d,s_prime,di_1);\n",
    "                    else\n",
    "                        s1 = compatible_face_maps(d,s,di_1);\n",
    "                    end\n",
    "                    \n",
    "                    if (isempty(idx2)==false) && (face2 == di_2)\n",
    "                        s_prime = [(a + beta2) % 2 for a in s];\n",
    "                        s2 = compatible_face_maps(d,s_prime,di_2);\n",
    "                    else\n",
    "                        s2 = compatible_face_maps(d,s,di_2);\n",
    "                    end\n",
    "\n",
    "                    eta1 = [indicator_function(x,s1) for x in higher_outcomes];\n",
    "                    eta2 = [-indicator_function(x,s2) for x in higher_outcomes];\n",
    "\n",
    "                    # define map of d^n length array into N x d^n length array:\n",
    "                    sigma1 = f[1][2]; i1 = dict[sigma1]; sigma2 = f[2][2]; i2 = dict[sigma2];\n",
    "                    END1 = i1*(N_prob)+1; INT1 = END1-(N_prob)+1;\n",
    "                    END2 = i2*(N_prob)+1; INT2 = END2-(N_prob)+1;#\n",
    "\n",
    "                    # define interval where constraint is non-trivial:\n",
    "                    p1 = [i for i in INT1:END1]; p2 = [i for i in INT2:END2];\n",
    "                    init1[p1] = eta1; init2[p2] = eta2; init = init1+init2;\n",
    "                    NS = vcat(NS,init);\n",
    "                end\n",
    "            end\n",
    "        end\n",
    "    end\n",
    "    return NS\n",
    "end"
   ]
  }
 ],
 "metadata": {
  "kernelspec": {
   "display_name": "Julia 1.9.1",
   "language": "julia",
   "name": "julia-1.9"
  },
  "language_info": {
   "file_extension": ".jl",
   "mimetype": "application/julia",
   "name": "julia",
   "version": "1.9.1"
  }
 },
 "nbformat": 4,
 "nbformat_minor": 2
}
