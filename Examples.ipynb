{
 "cells": [
  {
   "cell_type": "markdown",
   "metadata": {},
   "source": [
    "# Two-dimensional Simplicial Distributions"
   ]
  },
  {
   "cell_type": "markdown",
   "metadata": {},
   "source": [
    "It will be necessary to have previously added the required packages. (See [readme](README.md) file for instructions.) "
   ]
  },
  {
   "cell_type": "code",
   "execution_count": 1,
   "metadata": {},
   "outputs": [
    {
     "name": "stderr",
     "output_type": "stream",
     "text": [
      "\u001b[32m\u001b[1m  Activating\u001b[22m\u001b[39m project at `~/GitHub/TwoDim/MyProject`\n"
     ]
    }
   ],
   "source": [
    "using Pkg; Pkg.activate(\"MyProject\");;                  # comment this line if prerequisites were added globally\n",
    "\n",
    "# import source main source file\n",
    "include(\"src/Main.jl\");;\n",
    "include(\"src/symmetries.jl\");;"
   ]
  },
  {
   "cell_type": "markdown",
   "metadata": {},
   "source": [
    "# Background\n",
    "\n",
    "Simplicial distributions model distributions on a space of outcomes parametrized by a space of measurements. In this code we restrict to two-dimensional measurement spaces and $\\mathbb{Z}_d=\\{0,1,\\cdots,d-1\\}$ as the outcomes. In this theory measurement and outcome spaces are modeled by simplicial sets. For an introduction to two-dimensional simplicial sets see [[Okay 2023]](https://arxiv.org/abs/2312.15794).\n",
    "\n",
    " \n",
    "A simplicial set $X$ consists of the following data:\n",
    "\n",
    "* a collection of sets $X_0,\\cdots, X_n, \\cdots$\n",
    "* face maps $d_i:X_n\\to X_{n-1}$\n",
    "* degeneracy maps $s_j:X_{n}\\to X_{n+1}$ \n",
    "\n",
    "where the face and the degeneracy maps satisfy the simplicial relations. The set $X_n$ represents the set of $n$-simplices. The face and degeneracy maps encode the gluing and collapsing data. A simplex is called non-degenerate if it is not in the image of a degeneracy map.\n",
    "\n",
    "A simplicial map $f:X\\to Y$ consists of functions $f_n:X_n\\to Y_n$, $n\\geq 0$, compatible with the simplicial structure. Writing $f_\\sigma = f_n(\\sigma)$ this means that\n",
    "$$\n",
    "d_i f_\\sigma = f_{d_i\\sigma} \\;\\;\\;\\; s_j f_\\sigma = f_{s_j \\sigma}\n",
    "$$\n",
    "for all face and degeneracy maps. A simplicial map is determined by $f_\\sigma$'s where $\\sigma$ is a non-degenerate simplex of $X$.\n",
    " \n",
    "\n",
    "A two-dimensional simplicial set comes with\n",
    "\n",
    "*  the sets $X_0,X_1,X_2$ of simplices\n",
    "* the face maps\n",
    "$$\n",
    "d_i: X_1 \\to X_0 \\;\\;\\;\\; i=0,1\n",
    "$$\n",
    "and\n",
    "$$\n",
    "d_i:X_2\\to X_1 \\;\\;\\;\\; i=0,1,2\n",
    "$$\n",
    "* the degeneracy map\n",
    "$$\n",
    "s_0:X_0\\to X_1\n",
    "$$\n",
    "and\n",
    "$$\n",
    "s_0:X_1\\to X_2 \\;\\;\\;\\; s_1:X_1\\to X_2\n",
    "$$\n",
    "Two-dimensional simplicial sets will represent our measurement spaces. \n",
    "\n",
    "Outcome spaces will be represented by the nerve space $Y=N\\mathbb{Z}_d$. We are only concerned with the two-dimensional part of this space:\n",
    "\n",
    "*  the sets \n",
    "$$Y_0=\\{\\ast\\} \\;\\;\\;\\; Y_1=\\mathbb{Z}_d \\;\\;\\;\\; Y_2=\\mathbb{Z}_d^2 $$\n",
    "of simplices\n",
    "* the face maps\n",
    "$$\n",
    "d_0(a,b) = b\\;\\;\\;\\; d_1(a,b)=a+b\\;\\;\\;\\;d_2(a,b)=a\n",
    "$$ \n",
    "* the degeneracy map\n",
    "$$\n",
    "s_0(\\ast) = 0.\n",
    "$$\n",
    "\n",
    " \n",
    "\n",
    "A two-dimensional simplicial distribution on $(X,Y)$ is a simplicial map $p:X\\to DY$ where $DY$ is the space of distributions constructed from the outcome space. An $n$-simplex of this space is a distribution on the set of $n$-simplices of the outcome space. For our case a simplicial distribution consists of\n",
    "\n",
    "* distributions \n",
    "$$\n",
    "p_\\sigma = \\{p_\\sigma^{ab}\\}_{a,b\\in \\mathbb{Z}_d} \n",
    "$$\n",
    "on the set of pairs $(a,b)$ parametrized by the two-simplices $\\sigma\\in X_2$ satisfying the simplicial relations coming from the face and the degeneracy maps. \n",
    "\n",
    "For example, let our measurement space be the diamond space $D$ obtained by gluing two triangles ($2$-simplices) $\\sigma$ and $\\sigma'$ along a common face, i.e., say $d_1\\sigma=d_1\\sigma'$. Then a simplicial distribution on $D$ consists of two distributions $p_\\sigma$ and $p_{\\sigma'}$ such that the marginals along the $d_1$ faces match. \n",
    "\n",
    "\n",
    "## Convex polytope of simplicial distributions\n",
    "\n",
    "\n",
    "The goal is to construct the polytope $P_X$ of simplicial distributions defined on $(X,Y)$ where $X$ is two-dimensional and $Y$ is the nerve space. \n",
    "<!--for a simplicial scenario $(X,N\\mathbb{Z}_2)$ whose maximal non-degenerate simplices are $2$-dimensional.--> For simplicity, let us consider a two-dimensional space $X$ in which all non-degenerate $1$-simplices $\\tau_i$ are the face of some triangle $\\sigma$ so that $\\tau_i = d_j\\sigma$. This is not particularly restrictive as it is a basic fact about simplicial distributions that simplicial distributions restricted to one-dimensional spaces yield only \"classical\" distributions, which are not particularly interesting.\n",
    "\n",
    "By the Minkowski-Weyl theorem a polytope can be defined as the intersection of a finite number of half-space inequalities or as the convex hull of a finite number of extreme points. The former is called the $H$-representation while the latter is called $V$-representation of the polytope. The problem of converting from $H$ to $V$ representation is called the vertex (facet) enumeration problem. The polytope $P_X$ can be defined in its $H$-representation as follows. For $(a,b)\\in \\mathbb{Z}_2^2$ and non-degenerate $2$-simplex $\\sigma$ let us consider the distribution $p_\\sigma$ on each triangle. Since we work with the semi-ring $\\mathbb{R}_{\\geq 0}$ we require that $p_\\sigma^{ab}\\geq 0$ for all $(a,b)\\in \\mathbb{Z}_2^2$ and non-degenerate $2$-simplex $\\sigma$. This yields an unbounded polyhedron (a cone) given by the positive orthant of a Euclidean space. Moreover, each distribution $p_\\sigma^{ab}$ is normalized $\\sum_{a,b} p_\\sigma^{ab} =1 $ and there are additional compatibility conditions $d_i \\sigma = d_j\\sigma^\\prime$ leading to the constraints\n",
    "\n",
    "$$\\sum_{ab\\in\\mathbb{Z}_2^2~:~d_i(ab)=c} p_\\sigma^{ab} = \\sum_{ab\\in\\mathbb{Z}_2^2~:~d_j(ab)=c} p_{\\sigma^\\prime}^{ab}.$$\n",
    "\n",
    "\n",
    "The intersection of the cone with these affine subspaces yields a polytope $P_X$.\n",
    "\n",
    "### Degeneracies\n",
    "\n",
    "<!--A crucial distinction between simplicial sets and abstract simplicial complexes is the notion of degeneracies: $s_j:X_n\\to X_{n+1}$. If a simplex $\\sigma_n \\in X_n$ is in the image of a degeneracy map acting on a non-degenerate simplex $\\sigma_{n-1}$, i.e. $\\sigma = s_j(\\sigma_{n-1})$, then this degenerate simplex is not pictured in the geometric realization of $X$. Nonetheless, degeneracies become quite important when we wish to perform natural topological operations, such as collapsing. Consider a collapse map\n",
    "\n",
    "$$\\pi: \\Delta^1\\to\\Delta^0.$$\n",
    "\n",
    "In the framework of simplicial complexes we could not implement this collapse as a simplicial map because there is no notion of mapping a $1$-simplex to a $0$-simplex. Degeneracies solve this issue since the simplicial set for $\\Delta^0$ includes $n$-simplices at every level $(\\Delta^0)_n$ that are just images of the non-degenerate point $c\\in (\\Delta^0)_0$ under the degeneracy map. By mapping a non-degenerate $1$-simplex $\\tau\\in (\\Delta^1)_1$ to a degenerate $1$-simplex $s_j(c)\\in (\\Delta^0)_1$ we implement the desired collapse since degenerate simplices do not appear in the geometrical realization of $\\Delta^0$.-->\n",
    "\n",
    "We consider the behavior of degeneracies in the case of two-dimensional simplicial distributions. <!--Let $p:X\\to DY$ be a simplicial distributoin where $X$ is two-dimensional.--> Suppose we have a non-degenerate $2$-simplex $\\sigma\\in X_2$ such that one of its faces is a degenerate $1$-simplex, i.e. $d_i(\\sigma) = s_0(c)$ for some $c\\in X_0$. Since $p$ is a simplicial map we also have\n",
    "\n",
    "$$d_i(p_\\sigma) = s_0(p_c).$$\n",
    "\n",
    "<!--For an outcome space $N\\mathbb{Z}_d$ we can associate $p(\\sigma)$ with a tuple $(p^{ab})$ of length $d\\times d$. There are three face maps given by\n",
    "\n",
    "$$ \\left(d_i(p_\\sigma)\\right)(r) =%\n",
    "\\begin{cases}\n",
    "      \\sum_a p_\\sigma(ar) & i=0 \\\\\n",
    "      \\sum_{a+b = r ~\\text{mod}~d}p_\\sigma(ab) & i =1 \\\\\n",
    "      \\sum_a p_\\sigma(ra) & i = 2~.\n",
    "    \\end{cases}$$-->\n",
    "\n",
    "Conversely we have that there is a unique distribution on a $0$-simplex given by $p_c = 1$. The degeneracy map acting on this distribution is given by a tuple $s_0(p_c) = \\delta^0 $, which is a delta-distribution such that $\\delta^0(a) = 1$ for $a = 0$ and $\\delta^0(a) =0$ otherwise. Thus the relation $d_i(p_\\sigma) = s_0(p_c)$ yields\n",
    "\n",
    "\\begin{align}\n",
    "\\sum_a p_\\sigma(a0) &=& 1 \\quad\\quad (i = 0),\\notag\\\\\n",
    "\\sum_{a+b = 0 ~\\text{mod}~d}p_\\sigma(ab) &=& 1 \\quad\\quad (i = 1),\\notag\\\\\n",
    "\\sum_a p_\\sigma(0a) &=& 1 \\quad\\quad (i = 2).\\notag\\\\\n",
    "\\end{align}\n",
    "\n",
    "Due to normalization of $p_\\sigma(ab)$ this implies that all probabilities not appearing in the above expression should be set to zero in the case that a face of $\\sigma$ is degenerate. This is imposed by introducing additional linear equalities into the description of the polytope $P_X$.\n",
    "\n",
    "## Edge coordinates\n",
    "\n",
    "<!--For simplicial scenarios the map from the boundary of a triangle to the triangle is injective. In particular, for a space $X$ consisting of a single non-degenerate $2$-simplex $\\sigma$, consider a simplicial distribution $p:X\\to DN\\mathbb{Z}_2$, which we denote $p^{ab}_\\sigma := p(\\sigma)(ab)$.-->\n",
    "\n",
    "The boundary $\\partial\\sigma$ consists of three edges $x_0,x_1,x_2$ which are the faces $d_0\\sigma,d_1\\sigma,d_2\\sigma$, respectively. Distributions $p_{x_i}^a := p(x_i)(a)$ on the boundary are obtained by marginalization. More explicitly,\n",
    "\n",
    "\\begin{equation}\n",
    "p_{x_i}^c=\\sum_{a,b\\in \\mathbb{Z}_2~: ~d_i(ab)=c}p^{ab}_\\sigma~.\\notag\n",
    "\\end{equation}\n",
    "\n",
    "### Edge coordinates: marginals:\n",
    "\n",
    "Recall that the marginal distributions $p_{x_i}^a$ are normalized so that $p_{x_i}^0+p_{x_i}^1=1$. <!-- and, without loss of generality,--> The distribution $p_{x_i}$ can be characterized by a single parameter $p_{x_i}^0$ since $p_{x_i}^1=1-p_{d_i\\sigma}^0$. Similarly, the distribution $p_\\sigma^{ab}$ is itself normalized, thus $p_\\sigma^{ab}$ can be characterized by three independent parameters <!--, which we can take to be--> $p_{x_i}^0$ where $i=0,1,2$. To see this, using the formula above, note that\n",
    "\n",
    "\\begin{align}\n",
    "p_{x_0}^0 &=& p^{00}_\\sigma+p^{10}_\\sigma,\\\\\n",
    "p_{x_1}^0 &=& p^{00}_\\sigma+p^{11}_\\sigma,\\\\\n",
    "p_{x_2}^0 &=& p^{00}_\\sigma+p^{01}_\\sigma.\n",
    "\\end{align}\n",
    "\n",
    "Together with normalization we obtain a description of $p_\\sigma^{ab}$ in terms of its marginal distributions\n",
    "\n",
    "$$ p_\\sigma^{ab} = \\frac{1}{2}\\left ( p_{x_0}^a + p_{x_1}^{a+b+1} + p_{x_2}^b \\right).$$\n",
    "\n",
    "### Polytope of simplicial distributions\n",
    "\n",
    "The distribution $p_\\sigma^{ab}$ therefore is uniquely determined by its edge marginals $p_{x_i}^0$, and is automatically normalized. Moreover, <!--for two-dimensional simplicial scenarios $(X,N\\mathbb{Z}_2)$,--> non-trivial compatibility (or nonsignaling) constraints arise only when simplices are glued along edges. (Gluing along vertices is possible but does not induce any compatibility constraints.) Thus compatibility of simplicial distributions is guaranteed with edge coordinates. In other words, for two-dimensional spaces with outcomes in $\\mathbb{Z}_d$, simplicial distributions are completely characterized by the marginal distributions of the edges.\n",
    "\n",
    "Let us denote $X_n^\\circ$ to be the set of non-degenerate $n$-simplices in $X$. (For our purposes this is only non-empty for $n\\leq 2$.) Rather than letting the polytope $P_X$ reside in an ambient space $\\mathbb{R}^{|\\mathbb{Z}_d^2|\\times |X_2^\\circ|}$, with coordinates given by the $p_\\sigma^{ab}$ $(\\sigma\\in X_2^\\circ)$, it can instead be embedded in a real Euclidean space $\\mathbb{R}^{|X_1^\\circ|}$ with coordinates $p_\\tau^0$ $(\\tau\\in X_1^\\circ)$ where $|X_1^\\circ|\\leq |\\mathbb{Z}_d^2|\\times |X_2^\\circ|$. (When a polytope $P$ with affine span of dimension $N$ is embedded in $\\mathbb{R}^N$, it is called full-dimensional.) The polytope $P_X$ is given in its $H$-representation by the following set of inequalities:\n",
    "\n",
    "$$ P_X = \\{x\\in \\mathbb{R}^{|X_1^\\circ|}~:~p_\\sigma^{ab}\\geq 0\\}$$\n",
    "\n",
    "where $p_\\sigma^{ab}$ is given by the formula above.\n",
    "\n",
    "### Edge coordinates: expectations:\n",
    "\n",
    "Some computations are made simpler by a change of coordinates. We interpret the edges $x_i$ as measurements from which we obtain outcomes $(-1)^a$ ($a\\in\\mathbb{Z}_d$) that occur with probability $p_{x_i}^a$. The expected value (or expectation) is then given by\n",
    "\n",
    "$$\\bar{x}_i := \\sum_a (-1)^a p_{x_i}^a = p_{x_i}^0 - p_{x_i}^1.$$\n",
    "\n",
    "Using the normalization of $p_{x_i}^a$ we have that $\\bar{x}_i=2p_{x_i}^0-1$ yielding $p_{x_i}^0=(\\bar{x}_i+1)/2$. Plugging into the expression for $p_\\sigma^{ab}$ above, we have that:\n",
    "\n",
    "\\begin{equation}\n",
    "p_\\sigma^{ab} = \\frac{1}{4}\\left( 1+(-1)^a\\bar{x}_0+(-1)^{a+b}\\bar{x}_1+(-1)^b\\bar{x}_2 \\right).\\notag\n",
    "\\end{equation}\n",
    "\n",
    "## Twisted simplicial distributions\n",
    "\n",
    "Motivated by quantum mechanics, it is possible to have so-called twisted distributions on a simplicial scenario. We again restrict our attention to two-dimensional measurement spaces <!--$X$--> and <!--$\\mathbb{Z}_2$--> the nerve space as the outcomes. Let $\\sigma$ be a non-degenerate triangle with non-degenerate edges $x_i = d_i\\sigma$. Denoting the set of non-degenerate edges on the boundary of $\\sigma$ by $\\partial\\sigma$, we consider a function $\\beta:\\partial\\sigma\\to\\mathbb{Z}_2$. Simplicial maps $r:X\\to Y$ preserve the simplicial structure so that if $r(\\sigma) = (a,b)$ then $x_i\\mapsto d_i(a,b)$. Allowing for twisting amounts to modifying this relation according to\n",
    "$$r(x_i) = d_i(a,b)+\\beta(x_i).$$\n",
    "Such twisted distributions appear quite naturally in quantum mechanics, where the appearance of a non-trivial $\\beta$ function is an indicator of non-classical behavior, often called quantum contextuality. For more on the connection to quantum mechanics, see [[Okay, et al. 2017]](https://arxiv.org/abs/1701.01888)[[Okay, et al. 2023]](https://quantum-journal.org/papers/q-2023-05-22-1009/)."
   ]
  },
  {
   "cell_type": "markdown",
   "metadata": {},
   "source": [
    "# Conventions and notation for two-dimensional distributions\n",
    "We input a two-dimensional simplicial set as:\n",
    "-  a set $X_1^{\\circ}$ of non-degenerate edges $\\tau$, which we encode individually as an array: $\\tau_i = [i,[d_0\\tau,d_1\\tau]]$,\n",
    "\n",
    "- we index **degenerate** edges $s_0(c)$ $(c\\in X_0)$ by negative numbers which we formally write as $[-i,[c,c]]$, <!--although we do not need to enumerate these in the definition of a simplicial set.-->\n",
    "\n",
    "- a set $X_2^{\\circ}$ of non-degenerate triangles $\\sigma$, each of which we encode as an array: $\\sigma_i = [i,[d_0\\sigma,d_1\\sigma,d_2\\sigma]]$.\n",
    "\n",
    "## Twisting\n",
    "\n",
    "We may additionally choose to construct a twisted scenario, in which an edge $\\tau$ in a triangle $\\sigma$ may have a \"twisted\" outcome assignment $\\tau\\mapsto r(\\tau)+\\beta(\\tau)$, as described above. Note that it suffices to twist just one edge. We therefore encode the twisting by an array $\\mathcal{T} = [T_i]$ of elements $T_i = [i,\\beta,k]$, where $i$ is the identifier for $\\sigma_i\\in X_2^{\\circ}$, $\\beta\\in \\mathbb{Z}_d$ identifies the twisting on the $d_k(\\sigma_i)$ edge.\n",
    "\n",
    "**NOTE:** We use Julia indexing so that for $d_k:X_2\\to X_1$ we use $k=1,2,3$ rather than $k=0,1,2$, which is standard in the literature.\n",
    "\n",
    "**NOTE:** By default we assume no twisting."
   ]
  },
  {
   "cell_type": "markdown",
   "metadata": {},
   "source": [
    "### Singe triangle with two edges identified\n",
    "\n",
    "Topological spaces modeled by simplicial sets offer more flexibility than those modeled by abstract simplicial complexes. For instance, we can identify two edges of a triangle. More explicitly, we have $d_0\\sigma = d_2\\sigma$. Note that since no constraints arise from the vertices ($0$-simplices) of our space, we are free to identify all vertices to a single point. "
   ]
  },
  {
   "cell_type": "code",
   "execution_count": 2,
   "metadata": {},
   "outputs": [],
   "source": [
    "# create space:\n",
    "X0 = [1]; X1 = [[1,[1,1]],[2,[1,1]]]; X2 = [[1,[1,2,1]]]; X = [X0,X1,X2];\n",
    "\n",
    "# Compute TwoDimDist object:\n",
    "sDX = TwoDimDist(X,2);;"
   ]
  },
  {
   "cell_type": "code",
   "execution_count": 3,
   "metadata": {},
   "outputs": [
    {
     "data": {
      "text/plain": [
       "(:ProbInequalities, :ProbEquations, :ProbPolytope, :EdgeInequalities, :EdgePolytope)"
      ]
     },
     "metadata": {},
     "output_type": "display_data"
    }
   ],
   "source": [
    "fieldnames(TwoDimDist)"
   ]
  },
  {
   "cell_type": "markdown",
   "metadata": {},
   "source": [
    "A **TwoDimDist** object has several fields (or attributes):\n",
    "\n",
    "If $d > 2$, the object has attributes:\n",
    "\n",
    "- ProbInequalities: Matrix of inequalities for the scenario $(X,\\mathbb{Z}_d)$ in probability coordinates,\n",
    "\n",
    "- ProbEquations: Matrix of equalities, or nonsignaling conditions, for the scenario $(X,\\mathbb{Z}_d)$ in probability coordinates.\n",
    "\n",
    "- ProbPolytope: This is a Polymake polytope object. From this you can access Polymake properties, such as its VERTICES, FACETS, etc.\n",
    "\n",
    "Otherwise if $d = 2$ we also have the attributes:\n",
    "\n",
    "- EdgeInequalities: for two-dimensional spaces and $\\mathbb{Z}_2$ outcome scenarios, this is a matrix of inequalities in edge coordinates.\n",
    "\n",
    "- EdgePolytope: This is a Polymake polytope object in edge coordinates."
   ]
  },
  {
   "cell_type": "markdown",
   "metadata": {},
   "source": [
    "We can use Polymake to convert the $H$ description to a $V$ description in which the vertices have been computed. Let us find the vertices of $\\text{sDist}(X,N\\mathbb{Z}_2)$ in edge expectation coordinates."
   ]
  },
  {
   "cell_type": "code",
   "execution_count": 4,
   "metadata": {},
   "outputs": [
    {
     "data": {
      "text/plain": [
       "pm::Matrix<pm::Rational>\n",
       "1 1 1\n",
       "1 0 -1\n",
       "1 -1 1\n"
      ]
     },
     "metadata": {},
     "output_type": "display_data"
    }
   ],
   "source": [
    "sDX.EdgePolytope.VERTICES"
   ]
  },
  {
   "cell_type": "markdown",
   "metadata": {},
   "source": [
    "Note that in the current version of the code that computing the vertices in edge coordinates does not mean that you have access to the vertices in probability coordinates."
   ]
  },
  {
   "cell_type": "code",
   "execution_count": 5,
   "metadata": {},
   "outputs": [
    {
     "data": {
      "text/plain": [
       "pm::Matrix<pm::Rational>\n",
       "1 1 0 0 0\n",
       "1 0 0 0 1\n",
       "1 0 1/2 1/2 0\n"
      ]
     },
     "metadata": {},
     "output_type": "display_data"
    }
   ],
   "source": [
    "sDX.ProbPolytope.VERTICES"
   ]
  },
  {
   "cell_type": "markdown",
   "metadata": {},
   "source": [
    "But now that we have computed both, we have the full combinatorial structure in both edge and probaiblity coordinates:"
   ]
  },
  {
   "cell_type": "code",
   "execution_count": 6,
   "metadata": {},
   "outputs": [
    {
     "data": {
      "text/html": [
       "<dl> <dt>type</dt><dd> Polytope<Rational></dd> </dl>   <details>\n",
       "       <summary style='display:list-item;'>CONE_AMBIENT_DIM</summary>\n",
       "       <pre>5</pre>\n",
       "   </details>\n",
       "\n",
       "   <details>\n",
       "       <summary style='display:list-item;'>EQUATIONS</summary>\n",
       "       <pre>-1 1 1 1 1\n",
       "0 0 -1 1 0\n",
       "0 0 1 -1 0</pre>\n",
       "   </details>\n",
       "\n",
       "   <details>\n",
       "       <summary style='display:list-item;'>FEASIBLE</summary>\n",
       "       <pre>true</pre>\n",
       "   </details>\n",
       "\n",
       "   <details>\n",
       "       <summary style='display:list-item;'>INEQUALITIES</summary>\n",
       "       <pre>0 1 0 0 0\n",
       "0 0 1 0 0\n",
       "0 0 0 1 0\n",
       "0 0 0 0 1\n",
       "1 0 0 0 0</pre>\n",
       "   </details>\n",
       "\n",
       "   <details>\n",
       "       <summary style='display:list-item;'>LINEALITY_DIM</summary>\n",
       "       <pre>0</pre>\n",
       "   </details>\n",
       "\n",
       "   <details>\n",
       "       <summary style='display:list-item;'>LINEALITY_SPACE</summary>\n",
       "       <pre></pre>\n",
       "   </details>\n",
       "\n",
       "   <details>\n",
       "       <summary style='display:list-item;'>POINTED</summary>\n",
       "       <pre>true</pre>\n",
       "   </details>\n",
       "\n",
       "   <details>\n",
       "       <summary style='display:list-item;'>VERTICES</summary>\n",
       "       <pre>1 1 0 0 0\n",
       "1 0 0 0 1\n",
       "1 0 1/2 1/2 0</pre>\n",
       "   </details>\n"
      ],
      "text/plain": [
       "type: Polytope<Rational>\n",
       "\n",
       "CONE_AMBIENT_DIM\n",
       "\t5\n",
       "\n",
       "EQUATIONS\n",
       "\t-1 1 1 1 1\n",
       "\t0 0 -1 1 0\n",
       "\t0 0 1 -1 0\n",
       "\n",
       "FEASIBLE\n",
       "\ttrue\n",
       "\n",
       "INEQUALITIES\n",
       "  0  1  0  0  0\n",
       "  0  0  1  0  0\n",
       "  0  0  0  1  0\n",
       "  0  0  0  0  1\n",
       "  1  0  0  0  0\n",
       "\n",
       "LINEALITY_DIM\n",
       "\t0\n",
       "\n",
       "LINEALITY_SPACE\n",
       "\t\n",
       "\n",
       "POINTED\n",
       "\ttrue\n",
       "\n",
       "VERTICES\n",
       "  1  1    0    0  0\n",
       "  1  0    0    0  1\n",
       "  1  0  1/2  1/2  0\n"
      ]
     },
     "metadata": {},
     "output_type": "display_data"
    }
   ],
   "source": [
    "sDX.ProbPolytope"
   ]
  },
  {
   "cell_type": "code",
   "execution_count": 7,
   "metadata": {},
   "outputs": [
    {
     "data": {
      "text/html": [
       "<dl> <dt>type</dt><dd> Polytope<Rational></dd> </dl>   <details>\n",
       "       <summary style='display:list-item;'>CONE_AMBIENT_DIM</summary>\n",
       "       <pre>3</pre>\n",
       "   </details>\n",
       "\n",
       "   <details>\n",
       "       <summary style='display:list-item;'>FEASIBLE</summary>\n",
       "       <pre>true</pre>\n",
       "   </details>\n",
       "\n",
       "   <details>\n",
       "       <summary style='display:list-item;'>INEQUALITIES</summary>\n",
       "       <pre>1 2 1\n",
       "1 0 -1\n",
       "1 0 -1\n",
       "1 -2 1\n",
       "1 0 0</pre>\n",
       "   </details>\n",
       "\n",
       "   <details>\n",
       "       <summary style='display:list-item;'>LINEALITY_DIM</summary>\n",
       "       <pre>0</pre>\n",
       "   </details>\n",
       "\n",
       "   <details>\n",
       "       <summary style='display:list-item;'>LINEALITY_SPACE</summary>\n",
       "       <pre></pre>\n",
       "   </details>\n",
       "\n",
       "   <details>\n",
       "       <summary style='display:list-item;'>POINTED</summary>\n",
       "       <pre>true</pre>\n",
       "   </details>\n",
       "\n",
       "   <details>\n",
       "       <summary style='display:list-item;'>VERTICES</summary>\n",
       "       <pre>1 1 1\n",
       "1 0 -1\n",
       "1 -1 1</pre>\n",
       "   </details>\n"
      ],
      "text/plain": [
       "type: Polytope<Rational>\n",
       "\n",
       "CONE_AMBIENT_DIM\n",
       "\t3\n",
       "\n",
       "FEASIBLE\n",
       "\ttrue\n",
       "\n",
       "INEQUALITIES\n",
       "  1   2   1\n",
       "  1   0  -1\n",
       "  1   0  -1\n",
       "  1  -2   1\n",
       "  1   0   0\n",
       "\n",
       "LINEALITY_DIM\n",
       "\t0\n",
       "\n",
       "LINEALITY_SPACE\n",
       "\t\n",
       "\n",
       "POINTED\n",
       "\ttrue\n",
       "\n",
       "VERTICES\n",
       "  1   1   1\n",
       "  1   0  -1\n",
       "  1  -1   1\n"
      ]
     },
     "metadata": {},
     "output_type": "display_data"
    }
   ],
   "source": [
    "sDX.EdgePolytope"
   ]
  },
  {
   "cell_type": "markdown",
   "metadata": {},
   "source": [
    "### Single triangle with all edges identified\n",
    "\n",
    "We can also define a topological space consisting of a triangle with all edges identified, or equivalently ${d_0\\sigma = d_1\\sigma = d_2\\sigma}$."
   ]
  },
  {
   "cell_type": "code",
   "execution_count": 8,
   "metadata": {},
   "outputs": [
    {
     "data": {
      "text/plain": [
       "pm::Matrix<pm::Rational>\n",
       "1 1\n",
       "1 -1/3\n"
      ]
     },
     "metadata": {},
     "output_type": "display_data"
    }
   ],
   "source": [
    "C0 = [1]; C1 = [[1,[1,1]]]; C2 = [[1,[1,1,1]]]; C = [C0,C1,C2];\n",
    "\n",
    "# Compute vertices:\n",
    "TwoDimDist(C,2).EdgePolytope.VERTICES"
   ]
  },
  {
   "cell_type": "markdown",
   "metadata": {},
   "source": [
    "Note that for PROB coordinates we can choose outcomes for arbitrary $d\\in \\mathbb{N}$ ($d\\geq 2$)."
   ]
  },
  {
   "cell_type": "code",
   "execution_count": 9,
   "metadata": {},
   "outputs": [
    {
     "data": {
      "text/plain": [
       "pm::Matrix<pm::Rational>\n",
       "1 1 0 0 0 0 0 0 0 0\n",
       "1 0 0 0 0 1/2 0 0 0 1/2\n",
       "1 0 0 2/7 0 0 1/7 2/7 1/7 1/7\n",
       "1 0 2/7 0 2/7 1/7 1/7 0 1/7 0\n",
       "1 0 1/3 0 0 0 1/3 1/3 0 0\n",
       "1 0 0 1/3 1/3 0 0 0 1/3 0\n"
      ]
     },
     "metadata": {},
     "output_type": "display_data"
    }
   ],
   "source": [
    "# Compute vertices:\n",
    "TwoDimDist(C,3).ProbPolytope.VERTICES"
   ]
  },
  {
   "cell_type": "markdown",
   "metadata": {},
   "source": [
    "### Diamond scenario\n",
    "\n",
    "Two triangles $\\sigma$, $\\sigma^\\prime$ glued along common $d_1$ face, i.e., $d_1\\sigma = d_1\\sigma^\\prime$."
   ]
  },
  {
   "cell_type": "code",
   "execution_count": 10,
   "metadata": {},
   "outputs": [
    {
     "data": {
      "text/plain": [
       "pm::Matrix<pm::Rational>\n",
       "1 -1 -1 1 -1 1\n",
       "1 1 -1 -1 -1 1\n",
       "1 1 -1 -1 1 -1\n",
       "1 -1 -1 1 1 -1\n",
       "1 1 1 1 -1 -1\n",
       "1 1 1 1 1 1\n",
       "1 -1 1 -1 1 1\n",
       "1 -1 1 -1 -1 -1\n"
      ]
     },
     "metadata": {},
     "output_type": "display_data"
    }
   ],
   "source": [
    "D0 = [1,2,3,4];                                             # zeroth simplices\n",
    "D1 = [[1,[1,2]],[2,[1,4]],[3,[2,4]],[4,[1,3]],[5,[3,4]]];   # 1 simplices\n",
    "D2 = [[1,[3,2,1]],[2,[5,2,4]]];                             # 2 simplices\n",
    "\n",
    "# Simplicial set truncated at dimension two:\n",
    "D = [D0,D1,D2];\n",
    "\n",
    "# Compute vertices:\n",
    "TwoDimDist(D,2).EdgePolytope.VERTICES"
   ]
  },
  {
   "cell_type": "markdown",
   "metadata": {},
   "source": [
    "Note that this diamond scenario is always noncontextual. That is, the vertices are always deterministic. It is easy to see this in probability coordinates."
   ]
  },
  {
   "cell_type": "code",
   "execution_count": 11,
   "metadata": {},
   "outputs": [
    {
     "data": {
      "text/plain": [
       "pm::Matrix<pm::Rational>\n",
       "1 0 0 1 0 0 1 0 0\n",
       "1 0 1 0 0 0 1 0 0\n",
       "1 0 1 0 0 0 0 1 0\n",
       "1 0 0 1 0 0 0 1 0\n",
       "1 1 0 0 0 1 0 0 0\n",
       "1 1 0 0 0 0 0 0 1\n",
       "1 0 0 0 1 0 0 0 1\n",
       "1 0 0 0 1 1 0 0 0\n"
      ]
     },
     "metadata": {},
     "output_type": "display_data"
    }
   ],
   "source": [
    "# Compute vertices:\n",
    "TwoDimDist(D,2).ProbPolytope.VERTICES"
   ]
  },
  {
   "cell_type": "markdown",
   "metadata": {},
   "source": [
    "The [symmetries.jl](./src/symmetries.jl) file allows us to examine the representative vertices from each orbit under the action of the combinatorial automorphism group."
   ]
  },
  {
   "cell_type": "code",
   "execution_count": 14,
   "metadata": {},
   "outputs": [
    {
     "data": {
      "text/plain": [
       "pm::Matrix<pm::Rational>\n",
       "1 0 0 1 0 0 1 0 0\n"
      ]
     },
     "metadata": {},
     "output_type": "display_data"
    }
   ],
   "source": [
    "representative_vertices(TwoDimDist(D,2).ProbPolytope)"
   ]
  },
  {
   "cell_type": "markdown",
   "metadata": {},
   "source": [
    "In probability coordinates we can also consider outcomes in $\\mathbb{Z}_d$, where $d\\geq 2$. For example,"
   ]
  },
  {
   "cell_type": "code",
   "execution_count": 15,
   "metadata": {},
   "outputs": [
    {
     "data": {
      "text/plain": [
       "pm::Matrix<pm::Rational>\n",
       "1 0 0 0 0 1 0 0 0 0 0 0 0 0 0 0 1 0 0\n"
      ]
     },
     "metadata": {},
     "output_type": "display_data"
    }
   ],
   "source": [
    "# Compute vertices:\n",
    "representative_vertices(TwoDimDist(D,3).ProbPolytope)"
   ]
  },
  {
   "cell_type": "markdown",
   "metadata": {},
   "source": [
    "Notice again that, despite changing the outcome space, all the vertices are deterministic."
   ]
  },
  {
   "cell_type": "markdown",
   "metadata": {},
   "source": []
  }
 ],
 "metadata": {
  "kernelspec": {
   "display_name": "Julia 1.10.3",
   "language": "julia",
   "name": "julia-1.10"
  },
  "language_info": {
   "file_extension": ".jl",
   "mimetype": "application/julia",
   "name": "julia",
   "version": "1.10.3"
  }
 },
 "nbformat": 4,
 "nbformat_minor": 2
}
