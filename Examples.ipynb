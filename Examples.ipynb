{
 "cells": [
  {
   "cell_type": "markdown",
   "metadata": {},
   "source": [
    "## Examples (with and without twisting)"
   ]
  },
  {
   "cell_type": "code",
   "execution_count": 1,
   "metadata": {},
   "outputs": [
    {
     "data": {
      "text/plain": [
       "\"# initialize project:\\nusing Pkg; CURRENT = pwd(); PROJ_PATH = joinpath(dirname(CURRENT),\\\"MyProject\\\");\\n\\nPkg.activate(PROJ_PATH);;\\n\\n# Find current path\\nCURRENT = pwd(); SRC_PATH = joinpath(CURRENT,\\\"src\\\");\\n\\n# include auxilliary functions:\\nfor file in readdir(SRC_PATH); include(joinpath(SRC_PATH,file)); end;\\n\\nconst pm = Polymake;\\nusing GAP\\nconst g = GAP.Globals;\""
      ]
     },
     "metadata": {},
     "output_type": "display_data"
    }
   ],
   "source": [
    "\"\"\"# initialize project:\n",
    "using Pkg; CURRENT = pwd(); PROJ_PATH = joinpath(dirname(CURRENT),\"MyProject\");\n",
    "\n",
    "Pkg.activate(PROJ_PATH);;\n",
    "\n",
    "# Find current path\n",
    "CURRENT = pwd(); SRC_PATH = joinpath(CURRENT,\"src\");\n",
    "\n",
    "# include auxilliary functions:\n",
    "for file in readdir(SRC_PATH); include(joinpath(SRC_PATH,file)); end;\n",
    "\n",
    "const pm = Polymake;\n",
    "using GAP\n",
    "const g = GAP.Globals;\"\"\""
   ]
  },
  {
   "cell_type": "code",
   "execution_count": 2,
   "metadata": {},
   "outputs": [
    {
     "name": "stdout",
     "output_type": "stream",
     "text": [
      "\r"
     ]
    },
    {
     "data": {
      "text/plain": [
       "representative_facets (generic function with 1 method)"
      ]
     },
     "metadata": {},
     "output_type": "display_data"
    }
   ],
   "source": [
    "include(\"TwoDim.jl\")"
   ]
  },
  {
   "cell_type": "markdown",
   "metadata": {},
   "source": [
    "### Mermin Torus\n",
    "\n",
    "Measurement scenario as described in arXiv:2210.10186"
   ]
  },
  {
   "cell_type": "code",
   "execution_count": 3,
   "metadata": {},
   "outputs": [
    {
     "data": {
      "text/plain": [
       "pm::Matrix<pm::Rational>\n",
       "1 0 0 0 1 0 1/2 1/2 0 1/2 0 0 1/2 0 0 1/2 1/2 0 0 1/2 1/2 1 0 0 0\n",
       "1 0 1/2 1/2 0 1/2 1/2 0 0 0 1/2 0 1/2 0 1/2 1/2 0 0 1/2 0 1/2 0 0 1/2 1/2\n"
      ]
     },
     "metadata": {},
     "output_type": "display_data"
    }
   ],
   "source": [
    "# X0: Identify all vertices:\n",
    "X0 = [1];\n",
    "\n",
    "# X1: Assign an edge for each (nonlocal) Pauli operator: \n",
    "X1 = [[i,[1,1]] for i in 1:9];\n",
    "\n",
    "# Pauli operators are labeled according to: XX,XY,XZ,...,ZY,ZZ:\n",
    "X2 = [[1,[4,9,2]],[2,[8,1,6]],[3,[3,5,7]],[4,[7,6,2]],[5,[3,8,4]],[6,[5,1,9]]];\n",
    "X = [X0,X1,X2];\n",
    "\n",
    "# Twisting\n",
    "T = [[4,1,2],[5,1,2],[6,1,2]];\n",
    "\n",
    "representative_vertices(two_dimensional_distributions(X,\"PROB\",2,T))"
   ]
  },
  {
   "cell_type": "markdown",
   "metadata": {},
   "source": [
    "Same space but with no twisting."
   ]
  },
  {
   "cell_type": "code",
   "execution_count": null,
   "metadata": {},
   "outputs": [
    {
     "data": {
      "text/plain": [
       "pm::Matrix<pm::Rational>\n",
       "1 0 0 0 1 1 0 0 0 0 0 0 1 0 0 0 1 0 0 0 1 1 0 0 0\n"
      ]
     },
     "metadata": {},
     "output_type": "display_data"
    }
   ],
   "source": [
    "representative_vertices(two_dimensional_distributions(X,\"PROB\"))"
   ]
  },
  {
   "cell_type": "markdown",
   "metadata": {},
   "source": [
    "### Singe triangle: $\\mathbf{d_0\\sigma = d_2\\sigma}$\n",
    "\n",
    "Triangle with two edges identified."
   ]
  },
  {
   "cell_type": "code",
   "execution_count": null,
   "metadata": {},
   "outputs": [
    {
     "data": {
      "text/plain": [
       "pm::Matrix<pm::Rational>\n",
       "1 1 -1\n",
       "1 0 1\n",
       "1 -1 -1\n"
      ]
     },
     "metadata": {},
     "output_type": "display_data"
    }
   ],
   "source": [
    "# create space:\n",
    "X0 = [1]; X1 = [[1,[1,1]],[2,[1,1]]]; X2 = [[1,[1,2,1]]];\n",
    "X = [X0,X1,X2]; T = [[1,1,1]];\n",
    "\n",
    "# Compute vertices:\n",
    "two_dimensional_distributions(X,\"EDGE\",2,T).VERTICES"
   ]
  },
  {
   "cell_type": "markdown",
   "metadata": {},
   "source": [
    "### Single triangle: $\\mathbf{d_0\\sigma = d_1\\sigma = d_2\\sigma}$\n",
    "\n",
    "Triangle with all edges identified."
   ]
  },
  {
   "cell_type": "code",
   "execution_count": null,
   "metadata": {},
   "outputs": [
    {
     "data": {
      "text/plain": [
       "pm::Matrix<pm::Rational>\n",
       "1 1\n",
       "1 -1/3\n"
      ]
     },
     "metadata": {},
     "output_type": "display_data"
    }
   ],
   "source": [
    "C0 = [1]; C1 = [[1,[1,1]]]; C2 = [[1,[1,1,1]]]; C = [C0,C1,C2];\n",
    "\n",
    "# Compute vertices:\n",
    "two_dimensional_distributions(C,\"EDGE\").VERTICES"
   ]
  },
  {
   "cell_type": "markdown",
   "metadata": {},
   "source": [
    "Note that for PROB coordinates we can choose outcomes for arbitrary $d\\in \\mathbb{N}$ ($d\\geq 2$)."
   ]
  },
  {
   "cell_type": "code",
   "execution_count": null,
   "metadata": {},
   "outputs": [
    {
     "data": {
      "text/plain": [
       "pm::Matrix<pm::Rational>\n",
       "1 1 0 0 0 0 0 0 0 0\n",
       "1 0 0 0 0 1/2 0 0 0 1/2\n",
       "1 0 0 2/7 0 0 1/7 2/7 1/7 1/7\n",
       "1 0 2/7 0 2/7 1/7 1/7 0 1/7 0\n",
       "1 0 1/3 0 0 0 1/3 1/3 0 0\n",
       "1 0 0 1/3 1/3 0 0 0 1/3 0\n"
      ]
     },
     "metadata": {},
     "output_type": "display_data"
    }
   ],
   "source": [
    "# Compute vertices\n",
    "(two_dimensional_distributions(C,\"PROB\",3)).VERTICES"
   ]
  },
  {
   "cell_type": "markdown",
   "metadata": {},
   "source": [
    "### Diamond scenario\n",
    "\n",
    "Two triangles $\\sigma$, $\\sigma^\\prime$ glued along common $d_1$ face, i.e., $d_1\\sigma = d_1\\sigma^\\prime$."
   ]
  },
  {
   "cell_type": "code",
   "execution_count": null,
   "metadata": {},
   "outputs": [
    {
     "data": {
      "text/plain": [
       "pm::Matrix<pm::Rational>\n",
       "1 -1 -1 1 -1 1\n",
       "1 1 -1 -1 -1 1\n",
       "1 1 -1 -1 1 -1\n",
       "1 -1 -1 1 1 -1\n",
       "1 1 1 1 -1 -1\n",
       "1 1 1 1 1 1\n",
       "1 -1 1 -1 1 1\n",
       "1 -1 1 -1 -1 -1\n"
      ]
     },
     "metadata": {},
     "output_type": "display_data"
    }
   ],
   "source": [
    "D0 = [1,2,3,4];\n",
    "D1 = [[1,[1,2]],[2,[1,4]],[3,[2,4]],[4,[1,3]],[5,[3,4]]];\n",
    "D2 = [[1,[3,2,1]],[2,[5,2,4]]]; D = [D0,D1,D2];\n",
    "\n",
    "# Compute vertices\n",
    "two_dimensional_distributions(D,\"EDGE\").VERTICES"
   ]
  }
 ],
 "metadata": {
  "kernelspec": {
   "display_name": "Julia 1.9.1",
   "language": "julia",
   "name": "julia-1.9"
  },
  "language_info": {
   "file_extension": ".jl",
   "mimetype": "application/julia",
   "name": "julia",
   "version": "1.9.1"
  }
 },
 "nbformat": 4,
 "nbformat_minor": 2
}
