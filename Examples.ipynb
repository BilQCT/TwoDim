{
 "cells": [
  {
   "cell_type": "markdown",
   "metadata": {},
   "source": [
    "# Examples of Two-dimensional Simplicial Distributions"
   ]
  },
  {
   "cell_type": "markdown",
   "metadata": {},
   "source": [
    "It will be necessary to have previously added the required packages. (See [readme](README.md) file for instructions.) "
   ]
  },
  {
   "cell_type": "code",
   "execution_count": 7,
   "metadata": {},
   "outputs": [
    {
     "name": "stderr",
     "output_type": "stream",
     "text": [
      "\u001b[32m\u001b[1m  Activating\u001b[22m\u001b[39m project at `~/GitHub/TwoDim/MyProject`\n"
     ]
    }
   ],
   "source": [
    "using Pkg; Pkg.activate(\"MyProject\");;  # comment this line if prerequisites were added globally\n",
    "include(\"TwoDim.jl\");;                  # import source main source file"
   ]
  },
  {
   "cell_type": "markdown",
   "metadata": {},
   "source": [
    "### Mermin Torus\n",
    "\n",
    "Measurement scenario as described in arXiv:2210.10186"
   ]
  },
  {
   "cell_type": "code",
   "execution_count": 3,
   "metadata": {},
   "outputs": [
    {
     "data": {
      "text/plain": [
       "pm::Matrix<pm::Rational>\n",
       "1 0 0 0 1 0 1/2 1/2 0 1/2 0 0 1/2 0 0 1/2 1/2 0 0 1/2 1/2 1 0 0 0\n",
       "1 0 1/2 1/2 0 1/2 1/2 0 0 0 1/2 0 1/2 0 1/2 1/2 0 0 1/2 0 1/2 0 0 1/2 1/2\n"
      ]
     },
     "metadata": {},
     "output_type": "display_data"
    }
   ],
   "source": [
    "# X0: Identify all vertices:\n",
    "X0 = [1];\n",
    "\n",
    "# X1: Assign an edge for each (nonlocal) Pauli operator: \n",
    "X1 = [[i,[1,1]] for i in 1:9];\n",
    "\n",
    "# Pauli operators are labeled according to: XX,XY,XZ,...,ZY,ZZ:\n",
    "X2 = [[1,[4,9,2]],[2,[8,1,6]],[3,[3,5,7]],[4,[7,6,2]],[5,[3,8,4]],[6,[5,1,9]]];\n",
    "X = [X0,X1,X2];\n",
    "\n",
    "# Twisting\n",
    "T = [[4,1,2],[5,1,2],[6,1,2]];\n",
    "\n",
    "representative_vertices(two_dimensional_distributions(X,\"PROB\",2,T))"
   ]
  },
  {
   "cell_type": "markdown",
   "metadata": {},
   "source": [
    "Same space but with no twisting."
   ]
  },
  {
   "cell_type": "code",
   "execution_count": null,
   "metadata": {},
   "outputs": [
    {
     "data": {
      "text/plain": [
       "pm::Matrix<pm::Rational>\n",
       "1 0 0 0 1 1 0 0 0 0 0 0 1 0 0 0 1 0 0 0 1 1 0 0 0\n"
      ]
     },
     "metadata": {},
     "output_type": "display_data"
    }
   ],
   "source": [
    "representative_vertices(two_dimensional_distributions(X,\"PROB\"))"
   ]
  },
  {
   "cell_type": "markdown",
   "metadata": {},
   "source": [
    "### Singe triangle: $\\mathbf{d_0\\sigma = d_2\\sigma}$\n",
    "\n",
    "Triangle with two edges identified."
   ]
  },
  {
   "cell_type": "code",
   "execution_count": null,
   "metadata": {},
   "outputs": [
    {
     "data": {
      "text/plain": [
       "pm::Matrix<pm::Rational>\n",
       "1 1 -1\n",
       "1 0 1\n",
       "1 -1 -1\n"
      ]
     },
     "metadata": {},
     "output_type": "display_data"
    }
   ],
   "source": [
    "# create space:\n",
    "X0 = [1]; X1 = [[1,[1,1]],[2,[1,1]]]; X2 = [[1,[1,2,1]]];\n",
    "X = [X0,X1,X2]; T = [[1,1,1]];\n",
    "\n",
    "# Compute vertices:\n",
    "two_dimensional_distributions(X,\"EDGE\",2,T).VERTICES"
   ]
  },
  {
   "cell_type": "markdown",
   "metadata": {},
   "source": [
    "### Single triangle: $\\mathbf{d_0\\sigma = d_1\\sigma = d_2\\sigma}$\n",
    "\n",
    "Triangle with all edges identified."
   ]
  },
  {
   "cell_type": "code",
   "execution_count": null,
   "metadata": {},
   "outputs": [
    {
     "data": {
      "text/plain": [
       "pm::Matrix<pm::Rational>\n",
       "1 1\n",
       "1 -1/3\n"
      ]
     },
     "metadata": {},
     "output_type": "display_data"
    }
   ],
   "source": [
    "C0 = [1]; C1 = [[1,[1,1]]]; C2 = [[1,[1,1,1]]]; C = [C0,C1,C2];\n",
    "\n",
    "# Compute vertices:\n",
    "two_dimensional_distributions(C,\"EDGE\").VERTICES"
   ]
  },
  {
   "cell_type": "markdown",
   "metadata": {},
   "source": [
    "Note that for PROB coordinates we can choose outcomes for arbitrary $d\\in \\mathbb{N}$ ($d\\geq 2$)."
   ]
  },
  {
   "cell_type": "code",
   "execution_count": null,
   "metadata": {},
   "outputs": [
    {
     "data": {
      "text/plain": [
       "pm::Matrix<pm::Rational>\n",
       "1 1 0 0 0 0 0 0 0 0\n",
       "1 0 0 0 0 1/2 0 0 0 1/2\n",
       "1 0 0 2/7 0 0 1/7 2/7 1/7 1/7\n",
       "1 0 2/7 0 2/7 1/7 1/7 0 1/7 0\n",
       "1 0 1/3 0 0 0 1/3 1/3 0 0\n",
       "1 0 0 1/3 1/3 0 0 0 1/3 0\n"
      ]
     },
     "metadata": {},
     "output_type": "display_data"
    }
   ],
   "source": [
    "# Compute vertices\n",
    "(two_dimensional_distributions(C,\"PROB\",3)).VERTICES"
   ]
  },
  {
   "cell_type": "markdown",
   "metadata": {},
   "source": [
    "### Diamond scenario\n",
    "\n",
    "Two triangles $\\sigma$, $\\sigma^\\prime$ glued along common $d_1$ face, i.e., $d_1\\sigma = d_1\\sigma^\\prime$."
   ]
  },
  {
   "cell_type": "code",
   "execution_count": null,
   "metadata": {},
   "outputs": [
    {
     "data": {
      "text/plain": [
       "pm::Matrix<pm::Rational>\n",
       "1 -1 -1 1 -1 1\n",
       "1 1 -1 -1 -1 1\n",
       "1 1 -1 -1 1 -1\n",
       "1 -1 -1 1 1 -1\n",
       "1 1 1 1 -1 -1\n",
       "1 1 1 1 1 1\n",
       "1 -1 1 -1 1 1\n",
       "1 -1 1 -1 -1 -1\n"
      ]
     },
     "metadata": {},
     "output_type": "display_data"
    }
   ],
   "source": [
    "D0 = [1,2,3,4];\n",
    "D1 = [[1,[1,2]],[2,[1,4]],[3,[2,4]],[4,[1,3]],[5,[3,4]]];\n",
    "D2 = [[1,[3,2,1]],[2,[5,2,4]]]; D = [D0,D1,D2];\n",
    "\n",
    "# Compute vertices\n",
    "two_dimensional_distributions(D,\"EDGE\").VERTICES"
   ]
  }
 ],
 "metadata": {
  "kernelspec": {
   "display_name": "Julia 1.10.3",
   "language": "julia",
   "name": "julia-1.10"
  },
  "language_info": {
   "file_extension": ".jl",
   "mimetype": "application/julia",
   "name": "julia",
   "version": "1.10.3"
  }
 },
 "nbformat": 4,
 "nbformat_minor": 2
}
